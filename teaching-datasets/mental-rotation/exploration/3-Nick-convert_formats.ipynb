{
 "cells": [
  {
   "cell_type": "code",
   "execution_count": 1,
   "metadata": {},
   "outputs": [
    {
     "name": "stdout",
     "output_type": "stream",
     "text": [
      "Requirement already satisfied: scipy in c:\\users\\delgr\\anaconda3\\envs\\datascience1\\lib\\site-packages (1.11.1)\n",
      "Requirement already satisfied: numpy<1.28.0,>=1.21.6 in c:\\users\\delgr\\anaconda3\\envs\\datascience1\\lib\\site-packages (from scipy) (1.25.2)\n",
      "Note: you may need to restart the kernel to use updated packages.\n"
     ]
    }
   ],
   "source": [
    "%pip install scipy"
   ]
  },
  {
   "cell_type": "code",
   "execution_count": 2,
   "metadata": {},
   "outputs": [],
   "source": [
    "import pandas as pd"
   ]
  },
  {
   "cell_type": "markdown",
   "metadata": {},
   "source": [
    "## Round 3: Converting To and From Different Data Formats"
   ]
  },
  {
   "cell_type": "code",
   "execution_count": 3,
   "metadata": {},
   "outputs": [
    {
     "data": {
      "text/html": [
       "<div>\n",
       "<style scoped>\n",
       "    .dataframe tbody tr th:only-of-type {\n",
       "        vertical-align: middle;\n",
       "    }\n",
       "\n",
       "    .dataframe tbody tr th {\n",
       "        vertical-align: top;\n",
       "    }\n",
       "\n",
       "    .dataframe thead th {\n",
       "        text-align: right;\n",
       "    }\n",
       "</style>\n",
       "<table border=\"1\" class=\"dataframe\">\n",
       "  <thead>\n",
       "    <tr style=\"text-align: right;\">\n",
       "      <th></th>\n",
       "      <th>Subject</th>\n",
       "      <th>Trial</th>\n",
       "      <th>Angle</th>\n",
       "      <th>Matching</th>\n",
       "      <th>Response</th>\n",
       "      <th>Time</th>\n",
       "      <th>Correct</th>\n",
       "      <th>Age</th>\n",
       "      <th>Sex</th>\n",
       "    </tr>\n",
       "  </thead>\n",
       "  <tbody>\n",
       "    <tr>\n",
       "      <th>0</th>\n",
       "      <td>49</td>\n",
       "      <td>1</td>\n",
       "      <td>0</td>\n",
       "      <td>0</td>\n",
       "      <td>n</td>\n",
       "      <td>3107</td>\n",
       "      <td>1</td>\n",
       "      <td>32</td>\n",
       "      <td>M</td>\n",
       "    </tr>\n",
       "    <tr>\n",
       "      <th>1</th>\n",
       "      <td>49</td>\n",
       "      <td>2</td>\n",
       "      <td>150</td>\n",
       "      <td>0</td>\n",
       "      <td>n</td>\n",
       "      <td>2930</td>\n",
       "      <td>1</td>\n",
       "      <td>32</td>\n",
       "      <td>M</td>\n",
       "    </tr>\n",
       "    <tr>\n",
       "      <th>2</th>\n",
       "      <td>49</td>\n",
       "      <td>3</td>\n",
       "      <td>150</td>\n",
       "      <td>1</td>\n",
       "      <td>b</td>\n",
       "      <td>1874</td>\n",
       "      <td>1</td>\n",
       "      <td>32</td>\n",
       "      <td>M</td>\n",
       "    </tr>\n",
       "    <tr>\n",
       "      <th>3</th>\n",
       "      <td>49</td>\n",
       "      <td>4</td>\n",
       "      <td>100</td>\n",
       "      <td>1</td>\n",
       "      <td>b</td>\n",
       "      <td>3793</td>\n",
       "      <td>1</td>\n",
       "      <td>32</td>\n",
       "      <td>M</td>\n",
       "    </tr>\n",
       "    <tr>\n",
       "      <th>4</th>\n",
       "      <td>49</td>\n",
       "      <td>5</td>\n",
       "      <td>50</td>\n",
       "      <td>1</td>\n",
       "      <td>b</td>\n",
       "      <td>2184</td>\n",
       "      <td>1</td>\n",
       "      <td>32</td>\n",
       "      <td>M</td>\n",
       "    </tr>\n",
       "  </tbody>\n",
       "</table>\n",
       "</div>"
      ],
      "text/plain": [
       "   Subject  Trial  Angle  Matching Response  Time  Correct  Age Sex\n",
       "0       49      1      0         0        n  3107        1   32   M\n",
       "1       49      2    150         0        n  2930        1   32   M\n",
       "2       49      3    150         1        b  1874        1   32   M\n",
       "3       49      4    100         1        b  3793        1   32   M\n",
       "4       49      5     50         1        b  2184        1   32   M"
      ]
     },
     "execution_count": 3,
     "metadata": {},
     "output_type": "execute_result"
    }
   ],
   "source": [
    "df = pd.read_csv('../data/MentalRotation.csv')\n",
    "df.head()"
   ]
  },
  {
   "cell_type": "markdown",
   "metadata": {},
   "source": [
    "## .mat files"
   ]
  },
  {
   "cell_type": "code",
   "execution_count": 10,
   "metadata": {},
   "outputs": [],
   "source": [
    "import os\n",
    "import scipy.io"
   ]
  },
  {
   "cell_type": "code",
   "execution_count": 7,
   "metadata": {},
   "outputs": [
    {
     "data": {
      "text/plain": [
       "<function scipy.io.matlab._miobase.matfile_version(file_name, *, appendmat=True)>"
      ]
     },
     "execution_count": 7,
     "metadata": {},
     "output_type": "execute_result"
    }
   ],
   "source": [
    "scipy.io.whosmat\n",
    "scipy.io.savemat\n",
    "scipy.io.loadmat\n",
    "scipy.io.matlab.matfile_version"
   ]
  },
  {
   "cell_type": "code",
   "execution_count": 11,
   "metadata": {},
   "outputs": [],
   "source": [
    "os.makedirs('../data/alternates', exist_ok=True)"
   ]
  },
  {
   "cell_type": "markdown",
   "metadata": {},
   "source": [
    "## Roundtrip tests: Saving and Loading Data to see what comes out"
   ]
  },
  {
   "cell_type": "markdown",
   "metadata": {},
   "source": [
    "Can you just stick a dataframe in a mat file and expect it to do something?"
   ]
  },
  {
   "cell_type": "code",
   "execution_count": 22,
   "metadata": {},
   "outputs": [
    {
     "data": {
      "text/plain": [
       "{'__header__': b'MATLAB 5.0 MAT-file Platform: nt, Created on: Tue Aug 15 16:46:34 2023',\n",
       " '__version__': '1.0',\n",
       " '__globals__': [],\n",
       " 'Subject': array([[49, 49, 49, ..., 33, 33, 33]], dtype=int64),\n",
       " 'Trial': array([[ 1,  2,  3, ..., 94, 95, 96]], dtype=int64),\n",
       " 'Angle': array([[  0, 150, 150, ...,  50, 100,   0]], dtype=int64),\n",
       " 'Matching': array([[0, 0, 1, ..., 0, 1, 0]], dtype=int64),\n",
       " 'Response': array([[array(['n'], dtype='<U1'), array(['n'], dtype='<U1'),\n",
       "         array(['b'], dtype='<U1'), ..., array(['n'], dtype='<U1'),\n",
       "         array(['b'], dtype='<U1'), array(['n'], dtype='<U1')]],\n",
       "       dtype=object),\n",
       " 'Time': array([[3107, 2930, 1874, ..., 1226, 2783, 1017]], dtype=int64),\n",
       " 'Correct': array([[1, 1, 1, ..., 1, 1, 1]], dtype=int64),\n",
       " 'Age': array([[32, 32, 32, ..., 20, 20, 20]], dtype=int64),\n",
       " 'Sex': array([[array(['M'], dtype='<U1'), array(['M'], dtype='<U1'),\n",
       "         array(['M'], dtype='<U1'), ..., array(['F'], dtype='<U1'),\n",
       "         array(['F'], dtype='<U1'), array(['F'], dtype='<U1')]],\n",
       "       dtype=object)}"
      ]
     },
     "execution_count": 22,
     "metadata": {},
     "output_type": "execute_result"
    }
   ],
   "source": [
    "scipy.io.savemat('../data/alternates/mental_rot.mat', df)\n",
    "scipy.io.loadmat('../data/alternates/mental_rot.mat')"
   ]
  },
  {
   "cell_type": "markdown",
   "metadata": {},
   "source": [
    "Okay, that's because a dataframe is already \"dict-like\". "
   ]
  },
  {
   "cell_type": "markdown",
   "metadata": {},
   "source": [
    "What about in a record array?"
   ]
  },
  {
   "cell_type": "code",
   "execution_count": 26,
   "metadata": {},
   "outputs": [
    {
     "ename": "AttributeError",
     "evalue": "recarray has no attribute items",
     "output_type": "error",
     "traceback": [
      "\u001b[1;31m---------------------------------------------------------------------------\u001b[0m",
      "\u001b[1;31mKeyError\u001b[0m                                  Traceback (most recent call last)",
      "File \u001b[1;32mc:\\Users\\delgr\\anaconda3\\envs\\datascience1\\Lib\\site-packages\\numpy\\core\\records.py:453\u001b[0m, in \u001b[0;36mrecarray.__getattribute__\u001b[1;34m(self, attr)\u001b[0m\n\u001b[0;32m    452\u001b[0m \u001b[39mtry\u001b[39;00m:\n\u001b[1;32m--> 453\u001b[0m     res \u001b[39m=\u001b[39m fielddict[attr][:\u001b[39m2\u001b[39m]\n\u001b[0;32m    454\u001b[0m \u001b[39mexcept\u001b[39;00m (\u001b[39mTypeError\u001b[39;00m, \u001b[39mKeyError\u001b[39;00m) \u001b[39mas\u001b[39;00m e:\n",
      "\u001b[1;31mKeyError\u001b[0m: 'items'",
      "\nThe above exception was the direct cause of the following exception:\n",
      "\u001b[1;31mAttributeError\u001b[0m                            Traceback (most recent call last)",
      "Cell \u001b[1;32mIn[26], line 1\u001b[0m\n\u001b[1;32m----> 1\u001b[0m scipy\u001b[39m.\u001b[39;49mio\u001b[39m.\u001b[39;49msavemat(\u001b[39m'\u001b[39;49m\u001b[39m../data/alternates/mental_rot.mat\u001b[39;49m\u001b[39m'\u001b[39;49m, df\u001b[39m.\u001b[39;49mto_records())\n\u001b[0;32m      2\u001b[0m \u001b[39m# scipy.io.loadmat('../data/alternates/mental_rot.mat')\u001b[39;00m\n",
      "File \u001b[1;32mc:\\Users\\delgr\\anaconda3\\envs\\datascience1\\Lib\\site-packages\\scipy\\io\\matlab\\_mio.py:300\u001b[0m, in \u001b[0;36msavemat\u001b[1;34m(file_name, mdict, appendmat, format, long_field_names, do_compression, oned_as)\u001b[0m\n\u001b[0;32m    298\u001b[0m \u001b[39melse\u001b[39;00m:\n\u001b[0;32m    299\u001b[0m     \u001b[39mraise\u001b[39;00m \u001b[39mValueError\u001b[39;00m(\u001b[39m\"\u001b[39m\u001b[39mFormat should be \u001b[39m\u001b[39m'\u001b[39m\u001b[39m4\u001b[39m\u001b[39m'\u001b[39m\u001b[39m or \u001b[39m\u001b[39m'\u001b[39m\u001b[39m5\u001b[39m\u001b[39m'\u001b[39m\u001b[39m\"\u001b[39m)\n\u001b[1;32m--> 300\u001b[0m MW\u001b[39m.\u001b[39;49mput_variables(mdict)\n",
      "File \u001b[1;32mc:\\Users\\delgr\\anaconda3\\envs\\datascience1\\Lib\\site-packages\\scipy\\io\\matlab\\_mio5.py:880\u001b[0m, in \u001b[0;36mMatFile5Writer.put_variables\u001b[1;34m(self, mdict, write_header)\u001b[0m\n\u001b[0;32m    878\u001b[0m     \u001b[39mself\u001b[39m\u001b[39m.\u001b[39mwrite_file_header()\n\u001b[0;32m    879\u001b[0m \u001b[39mself\u001b[39m\u001b[39m.\u001b[39m_matrix_writer \u001b[39m=\u001b[39m VarWriter5(\u001b[39mself\u001b[39m)\n\u001b[1;32m--> 880\u001b[0m \u001b[39mfor\u001b[39;00m name, var \u001b[39min\u001b[39;00m mdict\u001b[39m.\u001b[39;49mitems():\n\u001b[0;32m    881\u001b[0m     \u001b[39mif\u001b[39;00m name[\u001b[39m0\u001b[39m] \u001b[39m==\u001b[39m \u001b[39m'\u001b[39m\u001b[39m_\u001b[39m\u001b[39m'\u001b[39m:\n\u001b[0;32m    882\u001b[0m         \u001b[39mcontinue\u001b[39;00m\n",
      "File \u001b[1;32mc:\\Users\\delgr\\anaconda3\\envs\\datascience1\\Lib\\site-packages\\numpy\\core\\records.py:455\u001b[0m, in \u001b[0;36mrecarray.__getattribute__\u001b[1;34m(self, attr)\u001b[0m\n\u001b[0;32m    453\u001b[0m     res \u001b[39m=\u001b[39m fielddict[attr][:\u001b[39m2\u001b[39m]\n\u001b[0;32m    454\u001b[0m \u001b[39mexcept\u001b[39;00m (\u001b[39mTypeError\u001b[39;00m, \u001b[39mKeyError\u001b[39;00m) \u001b[39mas\u001b[39;00m e:\n\u001b[1;32m--> 455\u001b[0m     \u001b[39mraise\u001b[39;00m \u001b[39mAttributeError\u001b[39;00m(\u001b[39m\"\u001b[39m\u001b[39mrecarray has no attribute \u001b[39m\u001b[39m%s\u001b[39;00m\u001b[39m\"\u001b[39m \u001b[39m%\u001b[39m attr) \u001b[39mfrom\u001b[39;00m \u001b[39me\u001b[39;00m\n\u001b[0;32m    456\u001b[0m obj \u001b[39m=\u001b[39m \u001b[39mself\u001b[39m\u001b[39m.\u001b[39mgetfield(\u001b[39m*\u001b[39mres)\n\u001b[0;32m    458\u001b[0m \u001b[39m# At this point obj will always be a recarray, since (see\u001b[39;00m\n\u001b[0;32m    459\u001b[0m \u001b[39m# PyArray_GetField) the type of obj is inherited. Next, if obj.dtype is\u001b[39;00m\n\u001b[0;32m    460\u001b[0m \u001b[39m# non-structured, convert it to an ndarray. Then if obj is structured\u001b[39;00m\n\u001b[0;32m    461\u001b[0m \u001b[39m# with void type convert it to the same dtype.type (eg to preserve\u001b[39;00m\n\u001b[0;32m    462\u001b[0m \u001b[39m# numpy.record type if present), since nested structured fields do not\u001b[39;00m\n\u001b[0;32m    463\u001b[0m \u001b[39m# inherit type. Don't do this for non-void structures though.\u001b[39;00m\n",
      "\u001b[1;31mAttributeError\u001b[0m: recarray has no attribute items"
     ]
    }
   ],
   "source": [
    "scipy.io.savemat('../data/alternates/mental_rot.mat', df.to_records())\n",
    "# scipy.io.loadmat('../data/alternates/mental_rot.mat')"
   ]
  },
  {
   "cell_type": "markdown",
   "metadata": {},
   "source": [
    "This doesn't work, because `savemat` is expecting a dictionary of variables!  Let's try that."
   ]
  },
  {
   "cell_type": "code",
   "execution_count": 29,
   "metadata": {},
   "outputs": [
    {
     "data": {
      "text/plain": [
       "rec.array([(   0, 49,  1,   0, 0, 'n', 3107, 1, 32, 'M'),\n",
       "           (   1, 49,  2, 150, 0, 'n', 2930, 1, 32, 'M'),\n",
       "           (   2, 49,  3, 150, 1, 'b', 1874, 1, 32, 'M'), ...,\n",
       "           (5068, 33, 94,  50, 0, 'n', 1226, 1, 20, 'F'),\n",
       "           (5069, 33, 95, 100, 1, 'b', 2783, 1, 20, 'F'),\n",
       "           (5070, 33, 96,   0, 0, 'n', 1017, 1, 20, 'F')],\n",
       "          dtype=[('index', '<i8'), ('Subject', '<i8'), ('Trial', '<i8'), ('Angle', '<i8'), ('Matching', '<i8'), ('Response', 'O'), ('Time', '<i8'), ('Correct', '<i8'), ('Age', '<i8'), ('Sex', 'O')])"
      ]
     },
     "execution_count": 29,
     "metadata": {},
     "output_type": "execute_result"
    }
   ],
   "source": [
    "df.to_records()"
   ]
  },
  {
   "cell_type": "code",
   "execution_count": 28,
   "metadata": {},
   "outputs": [
    {
     "data": {
      "text/plain": [
       "{'__header__': b'MATLAB 5.0 MAT-file Platform: nt, Created on: Tue Aug 15 16:48:47 2023',\n",
       " '__version__': '1.0',\n",
       " '__globals__': [],\n",
       " 'data': array([[(array([[0]], dtype=int64), array([[49]], dtype=int64), array([[1]], dtype=int64), array([[0]], dtype=int64), array([[0]], dtype=int64), array(['n'], dtype='<U1'), array([[3107]], dtype=int64), array([[1]], dtype=int64), array([[32]], dtype=int64), array(['M'], dtype='<U1')),\n",
       "         (array([[1]], dtype=int64), array([[49]], dtype=int64), array([[2]], dtype=int64), array([[150]], dtype=int64), array([[0]], dtype=int64), array(['n'], dtype='<U1'), array([[2930]], dtype=int64), array([[1]], dtype=int64), array([[32]], dtype=int64), array(['M'], dtype='<U1')),\n",
       "         (array([[2]], dtype=int64), array([[49]], dtype=int64), array([[3]], dtype=int64), array([[150]], dtype=int64), array([[1]], dtype=int64), array(['b'], dtype='<U1'), array([[1874]], dtype=int64), array([[1]], dtype=int64), array([[32]], dtype=int64), array(['M'], dtype='<U1')),\n",
       "         ...,\n",
       "         (array([[5068]], dtype=int64), array([[33]], dtype=int64), array([[94]], dtype=int64), array([[50]], dtype=int64), array([[0]], dtype=int64), array(['n'], dtype='<U1'), array([[1226]], dtype=int64), array([[1]], dtype=int64), array([[20]], dtype=int64), array(['F'], dtype='<U1')),\n",
       "         (array([[5069]], dtype=int64), array([[33]], dtype=int64), array([[95]], dtype=int64), array([[100]], dtype=int64), array([[1]], dtype=int64), array(['b'], dtype='<U1'), array([[2783]], dtype=int64), array([[1]], dtype=int64), array([[20]], dtype=int64), array(['F'], dtype='<U1')),\n",
       "         (array([[5070]], dtype=int64), array([[33]], dtype=int64), array([[96]], dtype=int64), array([[0]], dtype=int64), array([[0]], dtype=int64), array(['n'], dtype='<U1'), array([[1017]], dtype=int64), array([[1]], dtype=int64), array([[20]], dtype=int64), array(['F'], dtype='<U1'))]],\n",
       "       dtype=[('index', 'O'), ('Subject', 'O'), ('Trial', 'O'), ('Angle', 'O'), ('Matching', 'O'), ('Response', 'O'), ('Time', 'O'), ('Correct', 'O'), ('Age', 'O'), ('Sex', 'O')])}"
      ]
     },
     "execution_count": 28,
     "metadata": {},
     "output_type": "execute_result"
    }
   ],
   "source": [
    "scipy.io.savemat('../data/alternates/mental_rot.mat', dict(data=df.to_records()))\n",
    "scipy.io.loadmat('../data/alternates/mental_rot.mat')\n"
   ]
  },
  {
   "cell_type": "markdown",
   "metadata": {},
   "source": [
    "The data is...transposed, I think?"
   ]
  },
  {
   "cell_type": "code",
   "execution_count": 31,
   "metadata": {},
   "outputs": [
    {
     "data": {
      "text/plain": [
       "{'__header__': b'MATLAB 5.0 MAT-file Platform: nt, Created on: Tue Aug 15 16:49:44 2023',\n",
       " '__version__': '1.0',\n",
       " '__globals__': [],\n",
       " 'data': array([[(array([[0]], dtype=int64), array([[49]], dtype=int64), array([[1]], dtype=int64), array([[0]], dtype=int64), array([[0]], dtype=int64), array(['n'], dtype='<U1'), array([[3107]], dtype=int64), array([[1]], dtype=int64), array([[32]], dtype=int64), array(['M'], dtype='<U1')),\n",
       "         (array([[1]], dtype=int64), array([[49]], dtype=int64), array([[2]], dtype=int64), array([[150]], dtype=int64), array([[0]], dtype=int64), array(['n'], dtype='<U1'), array([[2930]], dtype=int64), array([[1]], dtype=int64), array([[32]], dtype=int64), array(['M'], dtype='<U1')),\n",
       "         (array([[2]], dtype=int64), array([[49]], dtype=int64), array([[3]], dtype=int64), array([[150]], dtype=int64), array([[1]], dtype=int64), array(['b'], dtype='<U1'), array([[1874]], dtype=int64), array([[1]], dtype=int64), array([[32]], dtype=int64), array(['M'], dtype='<U1')),\n",
       "         ...,\n",
       "         (array([[5068]], dtype=int64), array([[33]], dtype=int64), array([[94]], dtype=int64), array([[50]], dtype=int64), array([[0]], dtype=int64), array(['n'], dtype='<U1'), array([[1226]], dtype=int64), array([[1]], dtype=int64), array([[20]], dtype=int64), array(['F'], dtype='<U1')),\n",
       "         (array([[5069]], dtype=int64), array([[33]], dtype=int64), array([[95]], dtype=int64), array([[100]], dtype=int64), array([[1]], dtype=int64), array(['b'], dtype='<U1'), array([[2783]], dtype=int64), array([[1]], dtype=int64), array([[20]], dtype=int64), array(['F'], dtype='<U1')),\n",
       "         (array([[5070]], dtype=int64), array([[33]], dtype=int64), array([[96]], dtype=int64), array([[0]], dtype=int64), array([[0]], dtype=int64), array(['n'], dtype='<U1'), array([[1017]], dtype=int64), array([[1]], dtype=int64), array([[20]], dtype=int64), array(['F'], dtype='<U1'))]],\n",
       "       dtype=[('index', 'O'), ('Subject', 'O'), ('Trial', 'O'), ('Angle', 'O'), ('Matching', 'O'), ('Response', 'O'), ('Time', 'O'), ('Correct', 'O'), ('Age', 'O'), ('Sex', 'O')])}"
      ]
     },
     "execution_count": 31,
     "metadata": {},
     "output_type": "execute_result"
    }
   ],
   "source": [
    "scipy.io.savemat('../data/alternates/mental_rot.mat', dict(data=df.to_records().T))\n",
    "scipy.io.loadmat('../data/alternates/mental_rot.mat')"
   ]
  },
  {
   "cell_type": "markdown",
   "metadata": {},
   "source": [
    "Nope, that's not correct. "
   ]
  },
  {
   "cell_type": "markdown",
   "metadata": {},
   "source": [
    "What if we put a dataframe into the data dict?"
   ]
  },
  {
   "cell_type": "code",
   "execution_count": 32,
   "metadata": {},
   "outputs": [
    {
     "data": {
      "text/plain": [
       "{'__header__': b'MATLAB 5.0 MAT-file Platform: nt, Created on: Tue Aug 15 16:50:47 2023',\n",
       " '__version__': '1.0',\n",
       " '__globals__': [],\n",
       " 'data': array([[array([[49]]), array([[1]]), array([[0]]), ..., array([[1]]),\n",
       "         array([[32]]), array(['M'], dtype='<U1')],\n",
       "        [array([[49]]), array([[2]]), array([[150]]), ..., array([[1]]),\n",
       "         array([[32]]), array(['M'], dtype='<U1')],\n",
       "        [array([[49]]), array([[3]]), array([[150]]), ..., array([[1]]),\n",
       "         array([[32]]), array(['M'], dtype='<U1')],\n",
       "        ...,\n",
       "        [array([[33]]), array([[94]]), array([[50]]), ..., array([[1]]),\n",
       "         array([[20]]), array(['F'], dtype='<U1')],\n",
       "        [array([[33]]), array([[95]]), array([[100]]), ..., array([[1]]),\n",
       "         array([[20]]), array(['F'], dtype='<U1')],\n",
       "        [array([[33]]), array([[96]]), array([[0]]), ..., array([[1]]),\n",
       "         array([[20]]), array(['F'], dtype='<U1')]], dtype=object)}"
      ]
     },
     "execution_count": 32,
     "metadata": {},
     "output_type": "execute_result"
    }
   ],
   "source": [
    "scipy.io.savemat('../data/alternates/mental_rot.mat', dict(data=df))\n",
    "scipy.io.loadmat('../data/alternates/mental_rot.mat')"
   ]
  },
  {
   "cell_type": "markdown",
   "metadata": {},
   "source": [
    "Interesting, It's now a record array."
   ]
  },
  {
   "cell_type": "code",
   "execution_count": 34,
   "metadata": {},
   "outputs": [
    {
     "data": {
      "text/html": [
       "<div>\n",
       "<style scoped>\n",
       "    .dataframe tbody tr th:only-of-type {\n",
       "        vertical-align: middle;\n",
       "    }\n",
       "\n",
       "    .dataframe tbody tr th {\n",
       "        vertical-align: top;\n",
       "    }\n",
       "\n",
       "    .dataframe thead th {\n",
       "        text-align: right;\n",
       "    }\n",
       "</style>\n",
       "<table border=\"1\" class=\"dataframe\">\n",
       "  <thead>\n",
       "    <tr style=\"text-align: right;\">\n",
       "      <th></th>\n",
       "      <th>0</th>\n",
       "      <th>1</th>\n",
       "      <th>2</th>\n",
       "      <th>3</th>\n",
       "      <th>4</th>\n",
       "      <th>5</th>\n",
       "      <th>6</th>\n",
       "      <th>7</th>\n",
       "      <th>8</th>\n",
       "    </tr>\n",
       "  </thead>\n",
       "  <tbody>\n",
       "    <tr>\n",
       "      <th>0</th>\n",
       "      <td>[[49]]</td>\n",
       "      <td>[[1]]</td>\n",
       "      <td>[[0]]</td>\n",
       "      <td>[[0]]</td>\n",
       "      <td>[n]</td>\n",
       "      <td>[[3107]]</td>\n",
       "      <td>[[1]]</td>\n",
       "      <td>[[32]]</td>\n",
       "      <td>[M]</td>\n",
       "    </tr>\n",
       "    <tr>\n",
       "      <th>1</th>\n",
       "      <td>[[49]]</td>\n",
       "      <td>[[2]]</td>\n",
       "      <td>[[150]]</td>\n",
       "      <td>[[0]]</td>\n",
       "      <td>[n]</td>\n",
       "      <td>[[2930]]</td>\n",
       "      <td>[[1]]</td>\n",
       "      <td>[[32]]</td>\n",
       "      <td>[M]</td>\n",
       "    </tr>\n",
       "    <tr>\n",
       "      <th>2</th>\n",
       "      <td>[[49]]</td>\n",
       "      <td>[[3]]</td>\n",
       "      <td>[[150]]</td>\n",
       "      <td>[[1]]</td>\n",
       "      <td>[b]</td>\n",
       "      <td>[[1874]]</td>\n",
       "      <td>[[1]]</td>\n",
       "      <td>[[32]]</td>\n",
       "      <td>[M]</td>\n",
       "    </tr>\n",
       "    <tr>\n",
       "      <th>3</th>\n",
       "      <td>[[49]]</td>\n",
       "      <td>[[4]]</td>\n",
       "      <td>[[100]]</td>\n",
       "      <td>[[1]]</td>\n",
       "      <td>[b]</td>\n",
       "      <td>[[3793]]</td>\n",
       "      <td>[[1]]</td>\n",
       "      <td>[[32]]</td>\n",
       "      <td>[M]</td>\n",
       "    </tr>\n",
       "    <tr>\n",
       "      <th>4</th>\n",
       "      <td>[[49]]</td>\n",
       "      <td>[[5]]</td>\n",
       "      <td>[[50]]</td>\n",
       "      <td>[[1]]</td>\n",
       "      <td>[b]</td>\n",
       "      <td>[[2184]]</td>\n",
       "      <td>[[1]]</td>\n",
       "      <td>[[32]]</td>\n",
       "      <td>[M]</td>\n",
       "    </tr>\n",
       "    <tr>\n",
       "      <th>...</th>\n",
       "      <td>...</td>\n",
       "      <td>...</td>\n",
       "      <td>...</td>\n",
       "      <td>...</td>\n",
       "      <td>...</td>\n",
       "      <td>...</td>\n",
       "      <td>...</td>\n",
       "      <td>...</td>\n",
       "      <td>...</td>\n",
       "    </tr>\n",
       "    <tr>\n",
       "      <th>5066</th>\n",
       "      <td>[[33]]</td>\n",
       "      <td>[[92]]</td>\n",
       "      <td>[[150]]</td>\n",
       "      <td>[[1]]</td>\n",
       "      <td>[b]</td>\n",
       "      <td>[[2095]]</td>\n",
       "      <td>[[1]]</td>\n",
       "      <td>[[20]]</td>\n",
       "      <td>[F]</td>\n",
       "    </tr>\n",
       "    <tr>\n",
       "      <th>5067</th>\n",
       "      <td>[[33]]</td>\n",
       "      <td>[[93]]</td>\n",
       "      <td>[[150]]</td>\n",
       "      <td>[[0]]</td>\n",
       "      <td>[n]</td>\n",
       "      <td>[[2125]]</td>\n",
       "      <td>[[1]]</td>\n",
       "      <td>[[20]]</td>\n",
       "      <td>[F]</td>\n",
       "    </tr>\n",
       "    <tr>\n",
       "      <th>5068</th>\n",
       "      <td>[[33]]</td>\n",
       "      <td>[[94]]</td>\n",
       "      <td>[[50]]</td>\n",
       "      <td>[[0]]</td>\n",
       "      <td>[n]</td>\n",
       "      <td>[[1226]]</td>\n",
       "      <td>[[1]]</td>\n",
       "      <td>[[20]]</td>\n",
       "      <td>[F]</td>\n",
       "    </tr>\n",
       "    <tr>\n",
       "      <th>5069</th>\n",
       "      <td>[[33]]</td>\n",
       "      <td>[[95]]</td>\n",
       "      <td>[[100]]</td>\n",
       "      <td>[[1]]</td>\n",
       "      <td>[b]</td>\n",
       "      <td>[[2783]]</td>\n",
       "      <td>[[1]]</td>\n",
       "      <td>[[20]]</td>\n",
       "      <td>[F]</td>\n",
       "    </tr>\n",
       "    <tr>\n",
       "      <th>5070</th>\n",
       "      <td>[[33]]</td>\n",
       "      <td>[[96]]</td>\n",
       "      <td>[[0]]</td>\n",
       "      <td>[[0]]</td>\n",
       "      <td>[n]</td>\n",
       "      <td>[[1017]]</td>\n",
       "      <td>[[1]]</td>\n",
       "      <td>[[20]]</td>\n",
       "      <td>[F]</td>\n",
       "    </tr>\n",
       "  </tbody>\n",
       "</table>\n",
       "<p>5071 rows × 9 columns</p>\n",
       "</div>"
      ],
      "text/plain": [
       "           0       1        2      3    4         5      6       7    8\n",
       "0     [[49]]   [[1]]    [[0]]  [[0]]  [n]  [[3107]]  [[1]]  [[32]]  [M]\n",
       "1     [[49]]   [[2]]  [[150]]  [[0]]  [n]  [[2930]]  [[1]]  [[32]]  [M]\n",
       "2     [[49]]   [[3]]  [[150]]  [[1]]  [b]  [[1874]]  [[1]]  [[32]]  [M]\n",
       "3     [[49]]   [[4]]  [[100]]  [[1]]  [b]  [[3793]]  [[1]]  [[32]]  [M]\n",
       "4     [[49]]   [[5]]   [[50]]  [[1]]  [b]  [[2184]]  [[1]]  [[32]]  [M]\n",
       "...      ...     ...      ...    ...  ...       ...    ...     ...  ...\n",
       "5066  [[33]]  [[92]]  [[150]]  [[1]]  [b]  [[2095]]  [[1]]  [[20]]  [F]\n",
       "5067  [[33]]  [[93]]  [[150]]  [[0]]  [n]  [[2125]]  [[1]]  [[20]]  [F]\n",
       "5068  [[33]]  [[94]]   [[50]]  [[0]]  [n]  [[1226]]  [[1]]  [[20]]  [F]\n",
       "5069  [[33]]  [[95]]  [[100]]  [[1]]  [b]  [[2783]]  [[1]]  [[20]]  [F]\n",
       "5070  [[33]]  [[96]]    [[0]]  [[0]]  [n]  [[1017]]  [[1]]  [[20]]  [F]\n",
       "\n",
       "[5071 rows x 9 columns]"
      ]
     },
     "execution_count": 34,
     "metadata": {},
     "output_type": "execute_result"
    }
   ],
   "source": [
    "scipy.io.savemat('../data/alternates/mental_rot.mat', dict(data=df))\n",
    "data = scipy.io.loadmat('../data/alternates/mental_rot.mat')\n",
    "pd.DataFrame(data['data'])"
   ]
  },
  {
   "cell_type": "markdown",
   "metadata": {},
   "source": [
    "Whoa."
   ]
  },
  {
   "cell_type": "code",
   "execution_count": 38,
   "metadata": {},
   "outputs": [
    {
     "data": {
      "text/plain": [
       "array([[array([[49]]), array([[1]]), array([[0]]), ..., array([[1]]),\n",
       "        array([[32]]), array(['M'], dtype='<U1')],\n",
       "       [array([[49]]), array([[2]]), array([[150]]), ..., array([[1]]),\n",
       "        array([[32]]), array(['M'], dtype='<U1')],\n",
       "       [array([[49]]), array([[3]]), array([[150]]), ..., array([[1]]),\n",
       "        array([[32]]), array(['M'], dtype='<U1')],\n",
       "       ...,\n",
       "       [array([[33]]), array([[94]]), array([[50]]), ..., array([[1]]),\n",
       "        array([[20]]), array(['F'], dtype='<U1')],\n",
       "       [array([[33]]), array([[95]]), array([[100]]), ..., array([[1]]),\n",
       "        array([[20]]), array(['F'], dtype='<U1')],\n",
       "       [array([[33]]), array([[96]]), array([[0]]), ..., array([[1]]),\n",
       "        array([[20]]), array(['F'], dtype='<U1')]], dtype=object)"
      ]
     },
     "execution_count": 38,
     "metadata": {},
     "output_type": "execute_result"
    }
   ],
   "source": [
    "vals = data['data']\n",
    "vals"
   ]
  },
  {
   "cell_type": "code",
   "execution_count": 40,
   "metadata": {},
   "outputs": [
    {
     "data": {
      "text/plain": [
       "(5071, 9)"
      ]
     },
     "execution_count": 40,
     "metadata": {},
     "output_type": "execute_result"
    }
   ],
   "source": [
    "vals.shape"
   ]
  },
  {
   "cell_type": "markdown",
   "metadata": {},
   "source": [
    "Oh, I see.  We lost the `dtypes`. But that didn't happen with record arrays..."
   ]
  },
  {
   "cell_type": "code",
   "execution_count": 45,
   "metadata": {},
   "outputs": [
    {
     "data": {
      "text/plain": [
       "{'__header__': b'MATLAB 5.0 MAT-file Platform: nt, Created on: Tue Aug 15 16:53:51 2023',\n",
       " '__version__': '1.0',\n",
       " '__globals__': [],\n",
       " 'data': array([[(array([[0]], dtype=int64), array([[49]], dtype=int64), array([[1]], dtype=int64), array([[0]], dtype=int64), array([[0]], dtype=int64), array(['n'], dtype='<U1'), array([[3107]], dtype=int64), array([[1]], dtype=int64), array([[32]], dtype=int64), array(['M'], dtype='<U1')),\n",
       "         (array([[1]], dtype=int64), array([[49]], dtype=int64), array([[2]], dtype=int64), array([[150]], dtype=int64), array([[0]], dtype=int64), array(['n'], dtype='<U1'), array([[2930]], dtype=int64), array([[1]], dtype=int64), array([[32]], dtype=int64), array(['M'], dtype='<U1')),\n",
       "         (array([[2]], dtype=int64), array([[49]], dtype=int64), array([[3]], dtype=int64), array([[150]], dtype=int64), array([[1]], dtype=int64), array(['b'], dtype='<U1'), array([[1874]], dtype=int64), array([[1]], dtype=int64), array([[32]], dtype=int64), array(['M'], dtype='<U1')),\n",
       "         ...,\n",
       "         (array([[5068]], dtype=int64), array([[33]], dtype=int64), array([[94]], dtype=int64), array([[50]], dtype=int64), array([[0]], dtype=int64), array(['n'], dtype='<U1'), array([[1226]], dtype=int64), array([[1]], dtype=int64), array([[20]], dtype=int64), array(['F'], dtype='<U1')),\n",
       "         (array([[5069]], dtype=int64), array([[33]], dtype=int64), array([[95]], dtype=int64), array([[100]], dtype=int64), array([[1]], dtype=int64), array(['b'], dtype='<U1'), array([[2783]], dtype=int64), array([[1]], dtype=int64), array([[20]], dtype=int64), array(['F'], dtype='<U1')),\n",
       "         (array([[5070]], dtype=int64), array([[33]], dtype=int64), array([[96]], dtype=int64), array([[0]], dtype=int64), array([[0]], dtype=int64), array(['n'], dtype='<U1'), array([[1017]], dtype=int64), array([[1]], dtype=int64), array([[20]], dtype=int64), array(['F'], dtype='<U1'))]],\n",
       "       dtype=[('index', 'O'), ('Subject', 'O'), ('Trial', 'O'), ('Angle', 'O'), ('Matching', 'O'), ('Response', 'O'), ('Time', 'O'), ('Correct', 'O'), ('Age', 'O'), ('Sex', 'O')])}"
      ]
     },
     "execution_count": 45,
     "metadata": {},
     "output_type": "execute_result"
    }
   ],
   "source": [
    "scipy.io.savemat('../data/alternates/mental_rot.mat', dict(data=df.to_records()))\n",
    "data = scipy.io.loadmat('../data/alternates/mental_rot.mat')\n",
    "data"
   ]
  },
  {
   "cell_type": "code",
   "execution_count": 51,
   "metadata": {},
   "outputs": [
    {
     "ename": "AttributeError",
     "evalue": "module 'pandas' has no attribute 'Dataframe'",
     "output_type": "error",
     "traceback": [
      "\u001b[1;31m---------------------------------------------------------------------------\u001b[0m",
      "\u001b[1;31mAttributeError\u001b[0m                            Traceback (most recent call last)",
      "Cell \u001b[1;32mIn[51], line 1\u001b[0m\n\u001b[1;32m----> 1\u001b[0m pd\u001b[39m.\u001b[39;49mDataframe(data[\u001b[39m'\u001b[39m\u001b[39mdata\u001b[39m\u001b[39m'\u001b[39m])\n",
      "\u001b[1;31mAttributeError\u001b[0m: module 'pandas' has no attribute 'Dataframe'"
     ]
    }
   ],
   "source": [
    "pd.Dataframe(data['data'])"
   ]
  },
  {
   "cell_type": "code",
   "execution_count": 52,
   "metadata": {},
   "outputs": [
    {
     "data": {
      "text/plain": [
       "(1, 5071)"
      ]
     },
     "execution_count": 52,
     "metadata": {},
     "output_type": "execute_result"
    }
   ],
   "source": [
    "vals = data['data']\n",
    "vals.shape"
   ]
  },
  {
   "cell_type": "markdown",
   "metadata": {},
   "source": [
    "Oh, geez.  Right, record arrays."
   ]
  },
  {
   "cell_type": "code",
   "execution_count": 53,
   "metadata": {},
   "outputs": [
    {
     "ename": "ValueError",
     "evalue": "Per-column arrays must each be 1-dimensional",
     "output_type": "error",
     "traceback": [
      "\u001b[1;31m---------------------------------------------------------------------------\u001b[0m",
      "\u001b[1;31mValueError\u001b[0m                                Traceback (most recent call last)",
      "Cell \u001b[1;32mIn[53], line 1\u001b[0m\n\u001b[1;32m----> 1\u001b[0m pd\u001b[39m.\u001b[39;49mDataFrame\u001b[39m.\u001b[39;49mfrom_records(vals)\n",
      "File \u001b[1;32mc:\\Users\\delgr\\anaconda3\\envs\\datascience1\\Lib\\site-packages\\pandas\\core\\frame.py:2317\u001b[0m, in \u001b[0;36mDataFrame.from_records\u001b[1;34m(cls, data, index, exclude, columns, coerce_float, nrows)\u001b[0m\n\u001b[0;32m   2314\u001b[0m     columns \u001b[39m=\u001b[39m columns\u001b[39m.\u001b[39mdrop(exclude)\n\u001b[0;32m   2316\u001b[0m manager \u001b[39m=\u001b[39m get_option(\u001b[39m\"\u001b[39m\u001b[39mmode.data_manager\u001b[39m\u001b[39m\"\u001b[39m)\n\u001b[1;32m-> 2317\u001b[0m mgr \u001b[39m=\u001b[39m arrays_to_mgr(arrays, columns, result_index, typ\u001b[39m=\u001b[39;49mmanager)\n\u001b[0;32m   2319\u001b[0m \u001b[39mreturn\u001b[39;00m \u001b[39mcls\u001b[39m(mgr)\n",
      "File \u001b[1;32mc:\\Users\\delgr\\anaconda3\\envs\\datascience1\\Lib\\site-packages\\pandas\\core\\internals\\construction.py:115\u001b[0m, in \u001b[0;36marrays_to_mgr\u001b[1;34m(arrays, columns, index, dtype, verify_integrity, typ, consolidate)\u001b[0m\n\u001b[0;32m    112\u001b[0m \u001b[39mif\u001b[39;00m verify_integrity:\n\u001b[0;32m    113\u001b[0m     \u001b[39m# figure out the index, if necessary\u001b[39;00m\n\u001b[0;32m    114\u001b[0m     \u001b[39mif\u001b[39;00m index \u001b[39mis\u001b[39;00m \u001b[39mNone\u001b[39;00m:\n\u001b[1;32m--> 115\u001b[0m         index \u001b[39m=\u001b[39m _extract_index(arrays)\n\u001b[0;32m    116\u001b[0m     \u001b[39melse\u001b[39;00m:\n\u001b[0;32m    117\u001b[0m         index \u001b[39m=\u001b[39m ensure_index(index)\n",
      "File \u001b[1;32mc:\\Users\\delgr\\anaconda3\\envs\\datascience1\\Lib\\site-packages\\pandas\\core\\internals\\construction.py:642\u001b[0m, in \u001b[0;36m_extract_index\u001b[1;34m(data)\u001b[0m\n\u001b[0;32m    640\u001b[0m         raw_lengths\u001b[39m.\u001b[39mappend(\u001b[39mlen\u001b[39m(val))\n\u001b[0;32m    641\u001b[0m     \u001b[39melif\u001b[39;00m \u001b[39misinstance\u001b[39m(val, np\u001b[39m.\u001b[39mndarray) \u001b[39mand\u001b[39;00m val\u001b[39m.\u001b[39mndim \u001b[39m>\u001b[39m \u001b[39m1\u001b[39m:\n\u001b[1;32m--> 642\u001b[0m         \u001b[39mraise\u001b[39;00m \u001b[39mValueError\u001b[39;00m(\u001b[39m\"\u001b[39m\u001b[39mPer-column arrays must each be 1-dimensional\u001b[39m\u001b[39m\"\u001b[39m)\n\u001b[0;32m    644\u001b[0m \u001b[39mif\u001b[39;00m \u001b[39mnot\u001b[39;00m indexes \u001b[39mand\u001b[39;00m \u001b[39mnot\u001b[39;00m raw_lengths:\n\u001b[0;32m    645\u001b[0m     \u001b[39mraise\u001b[39;00m \u001b[39mValueError\u001b[39;00m(\u001b[39m\"\u001b[39m\u001b[39mIf using all scalar values, you must pass an index\u001b[39m\u001b[39m\"\u001b[39m)\n",
      "\u001b[1;31mValueError\u001b[0m: Per-column arrays must each be 1-dimensional"
     ]
    }
   ],
   "source": [
    "pd.DataFrame.from_records(vals)"
   ]
  },
  {
   "cell_type": "code",
   "execution_count": 55,
   "metadata": {},
   "outputs": [
    {
     "data": {
      "text/plain": [
       "{'__header__': b'MATLAB 5.0 MAT-file Platform: nt, Created on: Tue Aug 15 16:55:31 2023',\n",
       " '__version__': '1.0',\n",
       " '__globals__': [],\n",
       " 'data': array([[(array([[0]], dtype=int64), array([[49]], dtype=int64), array([[1]], dtype=int64), array([[0]], dtype=int64), array([[0]], dtype=int64), array(['n'], dtype='<U1'), array([[3107]], dtype=int64), array([[1]], dtype=int64), array([[32]], dtype=int64), array(['M'], dtype='<U1')),\n",
       "         (array([[1]], dtype=int64), array([[49]], dtype=int64), array([[2]], dtype=int64), array([[150]], dtype=int64), array([[0]], dtype=int64), array(['n'], dtype='<U1'), array([[2930]], dtype=int64), array([[1]], dtype=int64), array([[32]], dtype=int64), array(['M'], dtype='<U1')),\n",
       "         (array([[2]], dtype=int64), array([[49]], dtype=int64), array([[3]], dtype=int64), array([[150]], dtype=int64), array([[1]], dtype=int64), array(['b'], dtype='<U1'), array([[1874]], dtype=int64), array([[1]], dtype=int64), array([[32]], dtype=int64), array(['M'], dtype='<U1')),\n",
       "         ...,\n",
       "         (array([[5068]], dtype=int64), array([[33]], dtype=int64), array([[94]], dtype=int64), array([[50]], dtype=int64), array([[0]], dtype=int64), array(['n'], dtype='<U1'), array([[1226]], dtype=int64), array([[1]], dtype=int64), array([[20]], dtype=int64), array(['F'], dtype='<U1')),\n",
       "         (array([[5069]], dtype=int64), array([[33]], dtype=int64), array([[95]], dtype=int64), array([[100]], dtype=int64), array([[1]], dtype=int64), array(['b'], dtype='<U1'), array([[2783]], dtype=int64), array([[1]], dtype=int64), array([[20]], dtype=int64), array(['F'], dtype='<U1')),\n",
       "         (array([[5070]], dtype=int64), array([[33]], dtype=int64), array([[96]], dtype=int64), array([[0]], dtype=int64), array([[0]], dtype=int64), array(['n'], dtype='<U1'), array([[1017]], dtype=int64), array([[1]], dtype=int64), array([[20]], dtype=int64), array(['F'], dtype='<U1'))]],\n",
       "       dtype=[('index', 'O'), ('Subject', 'O'), ('Trial', 'O'), ('Angle', 'O'), ('Matching', 'O'), ('Response', 'O'), ('Time', 'O'), ('Correct', 'O'), ('Age', 'O'), ('Sex', 'O')])}"
      ]
     },
     "execution_count": 55,
     "metadata": {},
     "output_type": "execute_result"
    }
   ],
   "source": [
    "scipy.io.savemat('../data/alternates/mental_rot.mat', dict(data=df.to_records().T))\n",
    "data = scipy.io.loadmat('../data/alternates/mental_rot.mat')\n",
    "data"
   ]
  },
  {
   "cell_type": "code",
   "execution_count": 56,
   "metadata": {},
   "outputs": [
    {
     "data": {
      "text/plain": [
       "(1, 5071)"
      ]
     },
     "execution_count": 56,
     "metadata": {},
     "output_type": "execute_result"
    }
   ],
   "source": [
    "vals = data['data']\n",
    "vals.shape"
   ]
  },
  {
   "cell_type": "code",
   "execution_count": 62,
   "metadata": {},
   "outputs": [
    {
     "ename": "ValueError",
     "evalue": "Per-column arrays must each be 1-dimensional",
     "output_type": "error",
     "traceback": [
      "\u001b[1;31m---------------------------------------------------------------------------\u001b[0m",
      "\u001b[1;31mValueError\u001b[0m                                Traceback (most recent call last)",
      "Cell \u001b[1;32mIn[62], line 1\u001b[0m\n\u001b[1;32m----> 1\u001b[0m pd\u001b[39m.\u001b[39;49mDataFrame\u001b[39m.\u001b[39;49mfrom_records(vals\u001b[39m.\u001b[39;49mT)\n",
      "File \u001b[1;32mc:\\Users\\delgr\\anaconda3\\envs\\datascience1\\Lib\\site-packages\\pandas\\core\\frame.py:2317\u001b[0m, in \u001b[0;36mDataFrame.from_records\u001b[1;34m(cls, data, index, exclude, columns, coerce_float, nrows)\u001b[0m\n\u001b[0;32m   2314\u001b[0m     columns \u001b[39m=\u001b[39m columns\u001b[39m.\u001b[39mdrop(exclude)\n\u001b[0;32m   2316\u001b[0m manager \u001b[39m=\u001b[39m get_option(\u001b[39m\"\u001b[39m\u001b[39mmode.data_manager\u001b[39m\u001b[39m\"\u001b[39m)\n\u001b[1;32m-> 2317\u001b[0m mgr \u001b[39m=\u001b[39m arrays_to_mgr(arrays, columns, result_index, typ\u001b[39m=\u001b[39;49mmanager)\n\u001b[0;32m   2319\u001b[0m \u001b[39mreturn\u001b[39;00m \u001b[39mcls\u001b[39m(mgr)\n",
      "File \u001b[1;32mc:\\Users\\delgr\\anaconda3\\envs\\datascience1\\Lib\\site-packages\\pandas\\core\\internals\\construction.py:115\u001b[0m, in \u001b[0;36marrays_to_mgr\u001b[1;34m(arrays, columns, index, dtype, verify_integrity, typ, consolidate)\u001b[0m\n\u001b[0;32m    112\u001b[0m \u001b[39mif\u001b[39;00m verify_integrity:\n\u001b[0;32m    113\u001b[0m     \u001b[39m# figure out the index, if necessary\u001b[39;00m\n\u001b[0;32m    114\u001b[0m     \u001b[39mif\u001b[39;00m index \u001b[39mis\u001b[39;00m \u001b[39mNone\u001b[39;00m:\n\u001b[1;32m--> 115\u001b[0m         index \u001b[39m=\u001b[39m _extract_index(arrays)\n\u001b[0;32m    116\u001b[0m     \u001b[39melse\u001b[39;00m:\n\u001b[0;32m    117\u001b[0m         index \u001b[39m=\u001b[39m ensure_index(index)\n",
      "File \u001b[1;32mc:\\Users\\delgr\\anaconda3\\envs\\datascience1\\Lib\\site-packages\\pandas\\core\\internals\\construction.py:642\u001b[0m, in \u001b[0;36m_extract_index\u001b[1;34m(data)\u001b[0m\n\u001b[0;32m    640\u001b[0m         raw_lengths\u001b[39m.\u001b[39mappend(\u001b[39mlen\u001b[39m(val))\n\u001b[0;32m    641\u001b[0m     \u001b[39melif\u001b[39;00m \u001b[39misinstance\u001b[39m(val, np\u001b[39m.\u001b[39mndarray) \u001b[39mand\u001b[39;00m val\u001b[39m.\u001b[39mndim \u001b[39m>\u001b[39m \u001b[39m1\u001b[39m:\n\u001b[1;32m--> 642\u001b[0m         \u001b[39mraise\u001b[39;00m \u001b[39mValueError\u001b[39;00m(\u001b[39m\"\u001b[39m\u001b[39mPer-column arrays must each be 1-dimensional\u001b[39m\u001b[39m\"\u001b[39m)\n\u001b[0;32m    644\u001b[0m \u001b[39mif\u001b[39;00m \u001b[39mnot\u001b[39;00m indexes \u001b[39mand\u001b[39;00m \u001b[39mnot\u001b[39;00m raw_lengths:\n\u001b[0;32m    645\u001b[0m     \u001b[39mraise\u001b[39;00m \u001b[39mValueError\u001b[39;00m(\u001b[39m\"\u001b[39m\u001b[39mIf using all scalar values, you must pass an index\u001b[39m\u001b[39m\"\u001b[39m)\n",
      "\u001b[1;31mValueError\u001b[0m: Per-column arrays must each be 1-dimensional"
     ]
    }
   ],
   "source": [
    "pd.DataFrame.from_records(vals.T)"
   ]
  }
 ],
 "metadata": {
  "kernelspec": {
   "display_name": "datascience1",
   "language": "python",
   "name": "python3"
  },
  "language_info": {
   "codemirror_mode": {
    "name": "ipython",
    "version": 3
   },
   "file_extension": ".py",
   "mimetype": "text/x-python",
   "name": "python",
   "nbconvert_exporter": "python",
   "pygments_lexer": "ipython3",
   "version": "3.11.4"
  },
  "orig_nbformat": 4
 },
 "nbformat": 4,
 "nbformat_minor": 2
}
