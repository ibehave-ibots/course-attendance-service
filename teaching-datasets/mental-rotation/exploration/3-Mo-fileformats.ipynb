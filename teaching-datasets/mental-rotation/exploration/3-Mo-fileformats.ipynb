{
 "cells": [
  {
   "cell_type": "markdown",
   "id": "df9c464d-4686-471c-adca-ed5f8658199c",
   "metadata": {},
   "source": [
    "## Exploring NWB format\n",
    "\n",
    "Ref: https://pynwb.readthedocs.io/en/stable/index.html"
   ]
  },
  {
   "cell_type": "code",
   "execution_count": 1,
   "id": "bc841cdd-fe44-423d-99f3-f5e768e41295",
   "metadata": {},
   "outputs": [],
   "source": [
    "# !conda install -c -y conda-forge pynwb"
   ]
  },
  {
   "cell_type": "code",
   "execution_count": 1,
   "id": "88a0d399-a3a6-4df5-9929-d82f5de38438",
   "metadata": {},
   "outputs": [],
   "source": [
    "# !pip install pynwb"
   ]
  },
  {
   "cell_type": "code",
   "execution_count": 1,
   "id": "a4f91e8f-32b8-4014-a5e2-155dc9cee78e",
   "metadata": {},
   "outputs": [],
   "source": [
    "from datetime import datetime\n",
    "\n",
    "from uuid import uuid4\n",
    "\n",
    "import numpy as np\n",
    "from dateutil import tz\n",
    "\n",
    "from pynwb import NWBHDF5IO, NWBFile, TimeSeries\n",
    "from pynwb.behavior import Position, SpatialSeries\n",
    "from pynwb.epoch import TimeIntervals\n",
    "from pynwb.file import Subject"
   ]
  },
  {
   "cell_type": "code",
   "execution_count": 2,
   "id": "b6f7d45e-e0cb-45d5-8bf1-755e9f53c8fd",
   "metadata": {},
   "outputs": [
    {
     "data": {
      "text/html": [
       "\n",
       "        <style>\n",
       "            .container-fields {\n",
       "                font-family: \"Open Sans\", Arial, sans-serif;\n",
       "            }\n",
       "            .container-fields .field-value {\n",
       "                color: #00788E;\n",
       "            }\n",
       "            .container-fields details > summary {\n",
       "                cursor: pointer;\n",
       "                display: list-item;\n",
       "            }\n",
       "            .container-fields details > summary:hover {\n",
       "                color: #0A6EAA;\n",
       "            }\n",
       "        </style>\n",
       "        \n",
       "        <script>\n",
       "            function copyToClipboard(text) {\n",
       "                navigator.clipboard.writeText(text).then(function() {\n",
       "                    console.log('Copied to clipboard: ' + text);\n",
       "                }, function(err) {\n",
       "                    console.error('Could not copy text: ', err);\n",
       "                });\n",
       "            }\n",
       "\n",
       "            document.addEventListener('DOMContentLoaded', function() {\n",
       "                let fieldKeys = document.querySelectorAll('.container-fields .field-key');\n",
       "                fieldKeys.forEach(function(fieldKey) {\n",
       "                    fieldKey.addEventListener('click', function() {\n",
       "                        let accessCode = fieldKey.getAttribute('title').replace('Access code: ', '');\n",
       "                        copyToClipboard(accessCode);\n",
       "                    });\n",
       "                });\n",
       "            });\n",
       "        </script>\n",
       "        <div class='container-wrap'><div class='container-header'><div class='xr-obj-type'><h3>root (NWBFile)</h3></div></div><div style=\"margin-left: 0px;\" class=\"container-fields\"><span class=\"field-key\" title=\".fields['session_description']\">session_description:</span> <span class=\"field-value\">Mouse exploring an open field</span></div><div style=\"margin-left: 0px;\" class=\"container-fields\"><span class=\"field-key\" title=\".fields['identifier']\">identifier:</span> <span class=\"field-value\">ee936a88-c1d9-40bf-967d-f93d5c7c11f6</span></div><div style=\"margin-left: 0px;\" class=\"container-fields\"><span class=\"field-key\" title=\".fields['session_start_time']\">session_start_time:</span> <span class=\"field-value\">2018-04-25 02:30:03-07:00</span></div><div style=\"margin-left: 0px;\" class=\"container-fields\"><span class=\"field-key\" title=\".fields['timestamps_reference_time']\">timestamps_reference_time:</span> <span class=\"field-value\">2018-04-25 02:30:03-07:00</span></div><details><summary style=\"display: list-item; margin-left: 0px;\" class=\"container-fields field-key\" title=\".fields['file_create_date']\"><b>file_create_date</b></summary><div style=\"margin-left: 20px;\" class=\"container-fields\"><span class=\"field-value\" title=\".fields['file_create_date'][0]\">2023-08-15 14:43:30.269550+00:00</span></div></details><details><summary style=\"display: list-item; margin-left: 0px;\" class=\"container-fields field-key\" title=\".fields['experimenter']\"><b>experimenter</b></summary><div style=\"margin-left: 20px;\" class=\"container-fields\"><span class=\"field-value\" title=\".fields['experimenter'][0]\">Baggins, Bilbo</span></div></details><div style=\"margin-left: 0px;\" class=\"container-fields\"><span class=\"field-key\" title=\".fields['related_publications']\">related_publications:</span> <span class=\"field-value\">('DOI:10.1016/j.neuron.2016.12.011',)</span></div><div style=\"margin-left: 0px;\" class=\"container-fields\"><span class=\"field-key\" title=\".fields['epoch_tags']\">epoch_tags:</span> <span class=\"field-value\">set()</span></div><div style=\"margin-left: 0px;\" class=\"container-fields\"><span class=\"field-key\" title=\".fields['experiment_description']\">experiment_description:</span> <span class=\"field-value\">I went on an adventure to reclaim vast treasures.</span></div><div style=\"margin-left: 0px;\" class=\"container-fields\"><span class=\"field-key\" title=\".fields['session_id']\">session_id:</span> <span class=\"field-value\">session_1234</span></div><div style=\"margin-left: 0px;\" class=\"container-fields\"><span class=\"field-key\" title=\".fields['lab']\">lab:</span> <span class=\"field-value\">Bag End Laboratory</span></div><div style=\"margin-left: 0px;\" class=\"container-fields\"><span class=\"field-key\" title=\".fields['institution']\">institution:</span> <span class=\"field-value\">University of My Institution</span></div></div>"
      ],
      "text/plain": [
       "root pynwb.file.NWBFile at 0x140679058854992\n",
       "Fields:\n",
       "  experiment_description: I went on an adventure to reclaim vast treasures.\n",
       "  experimenter: ['Baggins, Bilbo']\n",
       "  file_create_date: [datetime.datetime(2023, 8, 15, 14, 43, 30, 269550, tzinfo=tzlocal())]\n",
       "  identifier: ee936a88-c1d9-40bf-967d-f93d5c7c11f6\n",
       "  institution: University of My Institution\n",
       "  lab: Bag End Laboratory\n",
       "  related_publications: ['DOI:10.1016/j.neuron.2016.12.011']\n",
       "  session_description: Mouse exploring an open field\n",
       "  session_id: session_1234\n",
       "  session_start_time: 2018-04-25 02:30:03-07:00\n",
       "  timestamps_reference_time: 2018-04-25 02:30:03-07:00"
      ]
     },
     "execution_count": 2,
     "metadata": {},
     "output_type": "execute_result"
    }
   ],
   "source": [
    "session_start_time = datetime(2018, 4, 25, 2, 30, 3, tzinfo=tz.gettz(\"US/Pacific\"))\n",
    "\n",
    "nwbfile = NWBFile(\n",
    "    session_description=\"Mouse exploring an open field\",  # required\n",
    "    identifier=str(uuid4()),  # required\n",
    "    session_start_time=session_start_time,  # required\n",
    "    session_id=\"session_1234\",  # optional\n",
    "    experimenter=[\n",
    "        \"Baggins, Bilbo\",\n",
    "    ],  # optional\n",
    "    lab=\"Bag End Laboratory\",  # optional\n",
    "    institution=\"University of My Institution\",  # optional\n",
    "    experiment_description=\"I went on an adventure to reclaim vast treasures.\",  # optional\n",
    "    related_publications=\"DOI:10.1016/j.neuron.2016.12.011\",  # optional\n",
    ")\n",
    "nwbfile"
   ]
  },
  {
   "cell_type": "markdown",
   "id": "5a16a714-0069-4490-b310-bfce95f6a310",
   "metadata": {},
   "source": [
    "## Add a subject"
   ]
  },
  {
   "cell_type": "code",
   "execution_count": 3,
   "id": "59167816-7814-4067-a1e6-4b6f4d9ce991",
   "metadata": {},
   "outputs": [
    {
     "data": {
      "text/html": [
       "\n",
       "        <style>\n",
       "            .container-fields {\n",
       "                font-family: \"Open Sans\", Arial, sans-serif;\n",
       "            }\n",
       "            .container-fields .field-value {\n",
       "                color: #00788E;\n",
       "            }\n",
       "            .container-fields details > summary {\n",
       "                cursor: pointer;\n",
       "                display: list-item;\n",
       "            }\n",
       "            .container-fields details > summary:hover {\n",
       "                color: #0A6EAA;\n",
       "            }\n",
       "        </style>\n",
       "        \n",
       "        <script>\n",
       "            function copyToClipboard(text) {\n",
       "                navigator.clipboard.writeText(text).then(function() {\n",
       "                    console.log('Copied to clipboard: ' + text);\n",
       "                }, function(err) {\n",
       "                    console.error('Could not copy text: ', err);\n",
       "                });\n",
       "            }\n",
       "\n",
       "            document.addEventListener('DOMContentLoaded', function() {\n",
       "                let fieldKeys = document.querySelectorAll('.container-fields .field-key');\n",
       "                fieldKeys.forEach(function(fieldKey) {\n",
       "                    fieldKey.addEventListener('click', function() {\n",
       "                        let accessCode = fieldKey.getAttribute('title').replace('Access code: ', '');\n",
       "                        copyToClipboard(accessCode);\n",
       "                    });\n",
       "                });\n",
       "            });\n",
       "        </script>\n",
       "        <div class='container-wrap'><div class='container-header'><div class='xr-obj-type'><h3>subject (Subject)</h3></div></div><div style=\"margin-left: 0px;\" class=\"container-fields\"><span class=\"field-key\" title=\".fields['age']\">age:</span> <span class=\"field-value\">P90D</span></div><div style=\"margin-left: 0px;\" class=\"container-fields\"><span class=\"field-key\" title=\".fields['age__reference']\">age__reference:</span> <span class=\"field-value\">birth</span></div><div style=\"margin-left: 0px;\" class=\"container-fields\"><span class=\"field-key\" title=\".fields['description']\">description:</span> <span class=\"field-value\">mouse 5</span></div><div style=\"margin-left: 0px;\" class=\"container-fields\"><span class=\"field-key\" title=\".fields['sex']\">sex:</span> <span class=\"field-value\">M</span></div><div style=\"margin-left: 0px;\" class=\"container-fields\"><span class=\"field-key\" title=\".fields['species']\">species:</span> <span class=\"field-value\">Mus musculus</span></div><div style=\"margin-left: 0px;\" class=\"container-fields\"><span class=\"field-key\" title=\".fields['subject_id']\">subject_id:</span> <span class=\"field-value\">001</span></div></div>"
      ],
      "text/plain": [
       "subject pynwb.file.Subject at 0x140679058853696\n",
       "Fields:\n",
       "  age: P90D\n",
       "  age__reference: birth\n",
       "  description: mouse 5\n",
       "  sex: M\n",
       "  species: Mus musculus\n",
       "  subject_id: 001"
      ]
     },
     "execution_count": 3,
     "metadata": {},
     "output_type": "execute_result"
    }
   ],
   "source": [
    "subject = Subject(\n",
    "    subject_id=\"001\",\n",
    "    age=\"P90D\",\n",
    "    description=\"mouse 5\",\n",
    "    species=\"Mus musculus\",\n",
    "    sex=\"M\",\n",
    ")\n",
    "\n",
    "nwbfile.subject = subject\n",
    "subject"
   ]
  },
  {
   "cell_type": "markdown",
   "id": "95e53106-43dc-491f-ad55-1aede1610dbe",
   "metadata": {},
   "source": [
    "## Add trials"
   ]
  },
  {
   "cell_type": "code",
   "execution_count": 4,
   "id": "39914ea9-95bc-4dc8-832c-db613e2f9722",
   "metadata": {},
   "outputs": [],
   "source": [
    "nwbfile.add_trial_column(\n",
    "    name=\"correct\",\n",
    "    description=\"whether the trial was correct\",\n",
    ")\n",
    "nwbfile.add_trial(start_time=1.0, stop_time=5.0, correct=True)\n",
    "nwbfile.add_trial(start_time=6.0, stop_time=10.0, correct=False)"
   ]
  },
  {
   "cell_type": "code",
   "execution_count": 5,
   "id": "79457465-9799-4ab7-9fd9-510e90d984a8",
   "metadata": {},
   "outputs": [
    {
     "data": {
      "text/html": [
       "<div>\n",
       "<style scoped>\n",
       "    .dataframe tbody tr th:only-of-type {\n",
       "        vertical-align: middle;\n",
       "    }\n",
       "\n",
       "    .dataframe tbody tr th {\n",
       "        vertical-align: top;\n",
       "    }\n",
       "\n",
       "    .dataframe thead th {\n",
       "        text-align: right;\n",
       "    }\n",
       "</style>\n",
       "<table border=\"1\" class=\"dataframe\">\n",
       "  <thead>\n",
       "    <tr style=\"text-align: right;\">\n",
       "      <th></th>\n",
       "      <th>start_time</th>\n",
       "      <th>stop_time</th>\n",
       "      <th>correct</th>\n",
       "    </tr>\n",
       "    <tr>\n",
       "      <th>id</th>\n",
       "      <th></th>\n",
       "      <th></th>\n",
       "      <th></th>\n",
       "    </tr>\n",
       "  </thead>\n",
       "  <tbody>\n",
       "    <tr>\n",
       "      <th>0</th>\n",
       "      <td>1.0</td>\n",
       "      <td>5.0</td>\n",
       "      <td>True</td>\n",
       "    </tr>\n",
       "    <tr>\n",
       "      <th>1</th>\n",
       "      <td>6.0</td>\n",
       "      <td>10.0</td>\n",
       "      <td>False</td>\n",
       "    </tr>\n",
       "  </tbody>\n",
       "</table>\n",
       "</div>"
      ],
      "text/plain": [
       "    start_time  stop_time  correct\n",
       "id                                \n",
       "0          1.0        5.0     True\n",
       "1          6.0       10.0    False"
      ]
     },
     "execution_count": 5,
     "metadata": {},
     "output_type": "execute_result"
    }
   ],
   "source": [
    "nwbfile.trials.to_dataframe()"
   ]
  },
  {
   "cell_type": "code",
   "execution_count": 6,
   "id": "e5abb655-0b31-4a62-af8a-3ed40f1c3bcf",
   "metadata": {},
   "outputs": [
    {
     "data": {
      "text/plain": [
       "pandas.core.frame.DataFrame"
      ]
     },
     "execution_count": 6,
     "metadata": {},
     "output_type": "execute_result"
    }
   ],
   "source": [
    "type(nwbfile.trials.to_dataframe())"
   ]
  },
  {
   "cell_type": "code",
   "execution_count": 7,
   "id": "90839fcc-2f70-4fa5-9d26-7212481786b0",
   "metadata": {},
   "outputs": [],
   "source": [
    "# data = list(range(100, 200, 10))\n",
    "# timestamps = list(range(10))\n",
    "# time_series_with_timestamps = TimeSeries(\n",
    "#     name=\"test_timeseries\",\n",
    "#     data=data,\n",
    "#     unit=\"m\",\n",
    "#     timestamps=timestamps,\n",
    "# )\n",
    "# time_series_with_timestamps"
   ]
  },
  {
   "cell_type": "code",
   "execution_count": 8,
   "id": "e5b020dc-a71a-4d14-b8df-f34069022d93",
   "metadata": {},
   "outputs": [],
   "source": [
    "# nwbfile.add_epoch(\n",
    "#     start_time=2.0,\n",
    "#     stop_time=4.0,\n",
    "#     tags=[\"first\", \"example\"],\n",
    "#     timeseries=[time_series_with_timestamps],\n",
    "# )\n",
    "\n",
    "# nwbfile.add_epoch(\n",
    "#     start_time=6.0,\n",
    "#     stop_time=8.0,\n",
    "#     tags=[\"second\", \"example\"],\n",
    "#     timeseries=[time_series_with_timestamps],\n",
    "# )"
   ]
  },
  {
   "cell_type": "code",
   "execution_count": 10,
   "id": "b42565bb-5664-4fc6-b817-81b445590fc5",
   "metadata": {},
   "outputs": [],
   "source": [
    "# nwbfile.epochs.to_dataframe()"
   ]
  },
  {
   "cell_type": "markdown",
   "id": "a9fab5b0-a001-4b7d-be20-f5411e36d1e7",
   "metadata": {},
   "source": [
    "## Save"
   ]
  },
  {
   "cell_type": "code",
   "execution_count": 11,
   "id": "1adf7951-c6dc-4742-836c-a5630202f17f",
   "metadata": {},
   "outputs": [],
   "source": [
    "with NWBHDF5IO(\"basics_tutorial.nwb\", \"w\") as io:\n",
    "    io.write(nwbfile)"
   ]
  },
  {
   "cell_type": "markdown",
   "id": "813c6333-4049-4a05-b2c3-bbfe4c1fc0ac",
   "metadata": {},
   "source": [
    "## Load"
   ]
  },
  {
   "cell_type": "code",
   "execution_count": 12,
   "id": "b4e83fce-7254-4e60-936b-f90c26f1bdfc",
   "metadata": {},
   "outputs": [],
   "source": [
    "with NWBHDF5IO(\"basics_tutorial.nwb\", \"r\") as io:\n",
    "    read_nwbfile = io.read()"
   ]
  },
  {
   "cell_type": "code",
   "execution_count": 16,
   "id": "308bf37f-90e0-48d8-b212-495a4b8c9457",
   "metadata": {},
   "outputs": [
    {
     "data": {
      "text/html": [
       "\n",
       "        <style>\n",
       "            .container-fields {\n",
       "                font-family: \"Open Sans\", Arial, sans-serif;\n",
       "            }\n",
       "            .container-fields .field-value {\n",
       "                color: #00788E;\n",
       "            }\n",
       "            .container-fields details > summary {\n",
       "                cursor: pointer;\n",
       "                display: list-item;\n",
       "            }\n",
       "            .container-fields details > summary:hover {\n",
       "                color: #0A6EAA;\n",
       "            }\n",
       "        </style>\n",
       "        \n",
       "        <script>\n",
       "            function copyToClipboard(text) {\n",
       "                navigator.clipboard.writeText(text).then(function() {\n",
       "                    console.log('Copied to clipboard: ' + text);\n",
       "                }, function(err) {\n",
       "                    console.error('Could not copy text: ', err);\n",
       "                });\n",
       "            }\n",
       "\n",
       "            document.addEventListener('DOMContentLoaded', function() {\n",
       "                let fieldKeys = document.querySelectorAll('.container-fields .field-key');\n",
       "                fieldKeys.forEach(function(fieldKey) {\n",
       "                    fieldKey.addEventListener('click', function() {\n",
       "                        let accessCode = fieldKey.getAttribute('title').replace('Access code: ', '');\n",
       "                        copyToClipboard(accessCode);\n",
       "                    });\n",
       "                });\n",
       "            });\n",
       "        </script>\n",
       "        <div class='container-wrap'><div class='container-header'><div class='xr-obj-type'><h3>subject (Subject)</h3></div></div><div style=\"margin-left: 0px;\" class=\"container-fields\"><span class=\"field-key\" title=\".fields['age']\">age:</span> <span class=\"field-value\">P90D</span></div><div style=\"margin-left: 0px;\" class=\"container-fields\"><span class=\"field-key\" title=\".fields['age__reference']\">age__reference:</span> <span class=\"field-value\">birth</span></div><div style=\"margin-left: 0px;\" class=\"container-fields\"><span class=\"field-key\" title=\".fields['description']\">description:</span> <span class=\"field-value\">mouse 5</span></div><div style=\"margin-left: 0px;\" class=\"container-fields\"><span class=\"field-key\" title=\".fields['sex']\">sex:</span> <span class=\"field-value\">M</span></div><div style=\"margin-left: 0px;\" class=\"container-fields\"><span class=\"field-key\" title=\".fields['species']\">species:</span> <span class=\"field-value\">Mus musculus</span></div><div style=\"margin-left: 0px;\" class=\"container-fields\"><span class=\"field-key\" title=\".fields['subject_id']\">subject_id:</span> <span class=\"field-value\">001</span></div></div>"
      ],
      "text/plain": [
       "subject pynwb.file.Subject at 0x140677872898336\n",
       "Fields:\n",
       "  age: P90D\n",
       "  age__reference: birth\n",
       "  description: mouse 5\n",
       "  sex: M\n",
       "  species: Mus musculus\n",
       "  subject_id: 001"
      ]
     },
     "execution_count": 16,
     "metadata": {},
     "output_type": "execute_result"
    }
   ],
   "source": [
    "read_nwbfile.subject"
   ]
  },
  {
   "cell_type": "code",
   "execution_count": null,
   "id": "62e00700-6770-4d23-ad50-e843283da012",
   "metadata": {},
   "outputs": [],
   "source": []
  }
 ],
 "metadata": {
  "kernelspec": {
   "display_name": "Python 3 (ipykernel)",
   "language": "python",
   "name": "python3"
  },
  "language_info": {
   "codemirror_mode": {
    "name": "ipython",
    "version": 3
   },
   "file_extension": ".py",
   "mimetype": "text/x-python",
   "name": "python",
   "nbconvert_exporter": "python",
   "pygments_lexer": "ipython3",
   "version": "3.10.9"
  }
 },
 "nbformat": 4,
 "nbformat_minor": 5
}
