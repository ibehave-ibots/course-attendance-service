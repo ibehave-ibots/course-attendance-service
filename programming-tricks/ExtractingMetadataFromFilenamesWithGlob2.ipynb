{
 "cells": [
  {
   "cell_type": "markdown",
   "metadata": {},
   "source": [
    "# Extracting Metadata from filenames in Python using the `glob2` package"
   ]
  },
  {
   "cell_type": "markdown",
   "metadata": {},
   "source": [
    "## Installing the Package"
   ]
  },
  {
   "cell_type": "markdown",
   "metadata": {},
   "source": [
    "GitHub Page with Docs: https://github.com/miracle2k/python-glob2/"
   ]
  },
  {
   "cell_type": "code",
   "execution_count": 13,
   "metadata": {},
   "outputs": [
    {
     "name": "stdout",
     "output_type": "stream",
     "text": [
      "Requirement already satisfied: glob2 in /opt/conda/lib/python3.10/site-packages (0.7)\n",
      "Note: you may need to restart the kernel to use updated packages.\n"
     ]
    }
   ],
   "source": [
    "%pip install glob2"
   ]
  },
  {
   "cell_type": "markdown",
   "metadata": {},
   "source": [
    "## Our Problem\n",
    "\n",
    "Below are the filenames that are in our directory.  What we want to do are:\n",
    "\n",
    "1. Get only the CSV files\n",
    "2. Get metadata from each filename:\n",
    "   - The File's ID (the number after the \"t\")\n",
    "   - The Town from which the file came from (Southampton, Queensland, or Cherbourg)\n",
    "   - Whether the data comes from survivors or non-survivors (1 and 0, respectively)\n",
    "\n",
    "\n",
    "\n"
   ]
  },
  {
   "cell_type": "code",
   "execution_count": 14,
   "metadata": {},
   "outputs": [],
   "source": [
    "example_filenames = [\n",
    "    't604697_sout_1.csv',\n",
    "    't82533_quee_1.csv',\n",
    "    't88553_quee_0.csv',\n",
    "    't244431_sout_0.csv',\n",
    "    '.gitpod.yml',\n",
    "    'aa.py',\n",
    "    't61137_cher_1.csv',\n",
    "    't13387_cher_0.csv',\n",
    "    '.git'\n",
    "]"
   ]
  },
  {
   "cell_type": "markdown",
   "metadata": {},
   "source": [
    "#### Setup the Example\n",
    "\n",
    "In the code below, I'm simply overriding the glob2's corresponding method so that it returns our example files, instead of the actual files on the computer, just to make it easier to try out this example situation.\n",
    "\n",
    "Note: This wouldn't be done in a real-world situation."
   ]
  },
  {
   "cell_type": "code",
   "execution_count": 15,
   "metadata": {},
   "outputs": [
    {
     "data": {
      "text/plain": [
       "['t604697_sout_1.csv',\n",
       " 't82533_quee_1.csv',\n",
       " 't88553_quee_0.csv',\n",
       " 't244431_sout_0.csv',\n",
       " '.gitpod.yml',\n",
       " 'aa.py',\n",
       " 't61137_cher_1.csv',\n",
       " 't13387_cher_0.csv',\n",
       " '.git']"
      ]
     },
     "execution_count": 15,
     "metadata": {},
     "output_type": "execute_result"
    }
   ],
   "source": [
    "from unittest.mock import Mock\n",
    "from glob2 import Globber\n",
    "\n",
    "Globber.listdir = Mock()\n",
    "Globber.listdir.return_value = example_filenames\n",
    "Globber.listdir()"
   ]
  },
  {
   "cell_type": "markdown",
   "metadata": {},
   "source": [
    "## What Can We Do?\n",
    "\n",
    "All we need is the `glob()` function from the `glob2` package; the difference from the built-in version is in its extra keywords."
   ]
  },
  {
   "cell_type": "code",
   "execution_count": 16,
   "metadata": {},
   "outputs": [],
   "source": [
    "from glob2 import glob"
   ]
  },
  {
   "cell_type": "markdown",
   "metadata": {},
   "source": [
    "#### Find All Files, just like the built-in glob.glob()"
   ]
  },
  {
   "cell_type": "code",
   "execution_count": 17,
   "metadata": {},
   "outputs": [
    {
     "data": {
      "text/plain": [
       "['t604697_sout_1.csv',\n",
       " 't82533_quee_1.csv',\n",
       " 't88553_quee_0.csv',\n",
       " 't244431_sout_0.csv',\n",
       " 'aa.py',\n",
       " 't61137_cher_1.csv',\n",
       " 't13387_cher_0.csv']"
      ]
     },
     "execution_count": 17,
     "metadata": {},
     "output_type": "execute_result"
    }
   ],
   "source": [
    "glob('*')"
   ]
  },
  {
   "cell_type": "markdown",
   "metadata": {},
   "source": [
    "#### Get all Files that match a wildcard pattern:"
   ]
  },
  {
   "cell_type": "code",
   "execution_count": 18,
   "metadata": {},
   "outputs": [
    {
     "data": {
      "text/plain": [
       "['t604697_sout_1.csv',\n",
       " 't82533_quee_1.csv',\n",
       " 't88553_quee_0.csv',\n",
       " 't244431_sout_0.csv',\n",
       " 't61137_cher_1.csv',\n",
       " 't13387_cher_0.csv']"
      ]
     },
     "execution_count": 18,
     "metadata": {},
     "output_type": "execute_result"
    }
   ],
   "source": [
    "glob('*.csv')"
   ]
  },
  {
   "cell_type": "markdown",
   "metadata": {},
   "source": [
    "#### Retain the data that matched each wildcard! \n",
    "\n",
    "Notice below, by adding more wildcards around the file seperaters, we could get each filename *and* the pattern it matched."
   ]
  },
  {
   "cell_type": "code",
   "execution_count": 19,
   "metadata": {},
   "outputs": [
    {
     "data": {
      "text/plain": [
       "[('t604697_sout_1.csv', ('604697', 'sout', '1')),\n",
       " ('t82533_quee_1.csv', ('82533', 'quee', '1')),\n",
       " ('t88553_quee_0.csv', ('88553', 'quee', '0')),\n",
       " ('t244431_sout_0.csv', ('244431', 'sout', '0')),\n",
       " ('t61137_cher_1.csv', ('61137', 'cher', '1')),\n",
       " ('t13387_cher_0.csv', ('13387', 'cher', '0'))]"
      ]
     },
     "execution_count": 19,
     "metadata": {},
     "output_type": "execute_result"
    }
   ],
   "source": [
    "glob(\"t*_*_*.csv\", with_matches=True)"
   ]
  },
  {
   "cell_type": "markdown",
   "metadata": {},
   "source": [
    "#### Useful Pattern: Organize filenames and metadata into a Pandas DataFrame"
   ]
  },
  {
   "cell_type": "code",
   "execution_count": 20,
   "metadata": {},
   "outputs": [
    {
     "data": {
      "text/html": [
       "<div>\n",
       "<style scoped>\n",
       "    .dataframe tbody tr th:only-of-type {\n",
       "        vertical-align: middle;\n",
       "    }\n",
       "\n",
       "    .dataframe tbody tr th {\n",
       "        vertical-align: top;\n",
       "    }\n",
       "\n",
       "    .dataframe thead th {\n",
       "        text-align: right;\n",
       "    }\n",
       "</style>\n",
       "<table border=\"1\" class=\"dataframe\">\n",
       "  <thead>\n",
       "    <tr style=\"text-align: right;\">\n",
       "      <th></th>\n",
       "      <th>filename</th>\n",
       "      <th>id</th>\n",
       "      <th>city</th>\n",
       "      <th>survived</th>\n",
       "    </tr>\n",
       "  </thead>\n",
       "  <tbody>\n",
       "    <tr>\n",
       "      <th>0</th>\n",
       "      <td>t604697_sout_1.csv</td>\n",
       "      <td>604697</td>\n",
       "      <td>sout</td>\n",
       "      <td>1</td>\n",
       "    </tr>\n",
       "    <tr>\n",
       "      <th>1</th>\n",
       "      <td>t82533_quee_1.csv</td>\n",
       "      <td>82533</td>\n",
       "      <td>quee</td>\n",
       "      <td>1</td>\n",
       "    </tr>\n",
       "    <tr>\n",
       "      <th>2</th>\n",
       "      <td>t88553_quee_0.csv</td>\n",
       "      <td>88553</td>\n",
       "      <td>quee</td>\n",
       "      <td>0</td>\n",
       "    </tr>\n",
       "    <tr>\n",
       "      <th>3</th>\n",
       "      <td>t244431_sout_0.csv</td>\n",
       "      <td>244431</td>\n",
       "      <td>sout</td>\n",
       "      <td>0</td>\n",
       "    </tr>\n",
       "    <tr>\n",
       "      <th>4</th>\n",
       "      <td>t61137_cher_1.csv</td>\n",
       "      <td>61137</td>\n",
       "      <td>cher</td>\n",
       "      <td>1</td>\n",
       "    </tr>\n",
       "    <tr>\n",
       "      <th>5</th>\n",
       "      <td>t13387_cher_0.csv</td>\n",
       "      <td>13387</td>\n",
       "      <td>cher</td>\n",
       "      <td>0</td>\n",
       "    </tr>\n",
       "  </tbody>\n",
       "</table>\n",
       "</div>"
      ],
      "text/plain": [
       "             filename      id  city survived\n",
       "0  t604697_sout_1.csv  604697  sout        1\n",
       "1   t82533_quee_1.csv   82533  quee        1\n",
       "2   t88553_quee_0.csv   88553  quee        0\n",
       "3  t244431_sout_0.csv  244431  sout        0\n",
       "4   t61137_cher_1.csv   61137  cher        1\n",
       "5   t13387_cher_0.csv   13387  cher        0"
      ]
     },
     "execution_count": 20,
     "metadata": {},
     "output_type": "execute_result"
    }
   ],
   "source": [
    "import pandas as pd\n",
    " \n",
    "records = []\n",
    "for fname, (id_number, city, survived) in glob(\"t*_*_*.csv\", with_matches=True):\n",
    "    record = {'filename': fname, 'id': id_number, 'city': city, 'survived': survived}\n",
    "    records.append(record)\n",
    "    \n",
    "pd.DataFrame(records)\n",
    "    "
   ]
  },
  {
   "cell_type": "markdown",
   "metadata": {},
   "source": [
    "That's it!  Pretty neat, right?"
   ]
  },
  {
   "cell_type": "markdown",
   "metadata": {},
   "source": []
  }
 ],
 "metadata": {
  "kernelspec": {
   "display_name": "base",
   "language": "python",
   "name": "python3"
  },
  "language_info": {
   "codemirror_mode": {
    "name": "ipython",
    "version": 3
   },
   "file_extension": ".py",
   "mimetype": "text/x-python",
   "name": "python",
   "nbconvert_exporter": "python",
   "pygments_lexer": "ipython3",
   "version": "3.10.9"
  },
  "orig_nbformat": 4
 },
 "nbformat": 4,
 "nbformat_minor": 2
}
