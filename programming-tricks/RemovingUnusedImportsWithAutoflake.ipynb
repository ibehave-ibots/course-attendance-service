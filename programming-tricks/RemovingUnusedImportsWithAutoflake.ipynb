{
 "cells": [
  {
   "cell_type": "code",
   "execution_count": 7,
   "metadata": {},
   "outputs": [
    {
     "name": "stdout",
     "output_type": "stream",
     "text": [
      "Collecting autoflakeNote: you may need to restart the kernel to use updated packages.\n",
      "\n",
      "  Obtaining dependency information for autoflake from https://files.pythonhosted.org/packages/9e/a5/8471753bc95672fb16d9cd1cb82ba460c66721378dd8cc8629d86c148a09/autoflake-2.2.1-py3-none-any.whl.metadata\n",
      "  Downloading autoflake-2.2.1-py3-none-any.whl.metadata (7.3 kB)\n",
      "Collecting pyflakes>=3.0.0 (from autoflake)\n",
      "  Obtaining dependency information for pyflakes>=3.0.0 from https://files.pythonhosted.org/packages/00/e9/1e1fd7fae559bfd07704991e9a59dd1349b72423c904256c073ce88a9940/pyflakes-3.1.0-py2.py3-none-any.whl.metadata\n",
      "  Using cached pyflakes-3.1.0-py2.py3-none-any.whl.metadata (3.5 kB)\n",
      "Downloading autoflake-2.2.1-py3-none-any.whl (32 kB)\n",
      "Using cached pyflakes-3.1.0-py2.py3-none-any.whl (62 kB)\n",
      "Installing collected packages: pyflakes, autoflake\n",
      "Successfully installed autoflake-2.2.1 pyflakes-3.1.0\n"
     ]
    }
   ],
   "source": [
    "%pip install autoflake"
   ]
  },
  {
   "cell_type": "markdown",
   "metadata": {},
   "source": [
    "## Have code lots of unused imports, and want to remove them quickly? Use Autoflake!\n",
    "\n",
    "Autoflake uses [Flake8](https://flake8.pycqa.org/en/latest/) to do some very simple cleanup on the code.  It also has an autoflake vscode extension, to run on single files with a couple shortcut keys."
   ]
  },
  {
   "cell_type": "code",
   "execution_count": 55,
   "metadata": {},
   "outputs": [],
   "source": [
    "from pathlib import Path"
   ]
  },
  {
   "cell_type": "code",
   "execution_count": 56,
   "metadata": {},
   "outputs": [
    {
     "name": "stdout",
     "output_type": "stream",
     "text": [
      "\n",
      "import itertools as it\n",
      "import pandas as pd\n",
      "from pprint import pprint\n",
      "\n",
      "pprint('Hello, World!')\n",
      "\n"
     ]
    }
   ],
   "source": [
    "code = \"\"\"\n",
    "import itertools as it\n",
    "import pandas as pd\n",
    "from pprint import pprint\n",
    "\n",
    "pprint('Hello, World!')\n",
    "\"\"\"\n",
    "path = Path('./src/main.py')\n",
    "path.parent.mkdir(parents=True, exist_ok=True)\n",
    "path.write_text(code)\n",
    "print(path.read_text())"
   ]
  },
  {
   "cell_type": "markdown",
   "metadata": {},
   "source": [
    "#### What will happen when we run autoflake on this file?  By default, it shows a diff:"
   ]
  },
  {
   "cell_type": "code",
   "execution_count": 57,
   "metadata": {},
   "outputs": [
    {
     "name": "stdout",
     "output_type": "stream",
     "text": [
      "--- original/./src/main.py\n",
      "+++ fixed/./src/main.py\n",
      "@@ -1,6 +1,4 @@\n",
      " \n",
      "\n",
      "-import itertools as it\n",
      "\n",
      "-import pandas as pd\n",
      "\n",
      " from pprint import pprint\n",
      "\n",
      " \n",
      "\n",
      " pprint('Hello, World!')\n",
      "\n"
     ]
    }
   ],
   "source": [
    "!python -m autoflake --remove-all-unused-imports ./src/main.py"
   ]
  },
  {
   "cell_type": "markdown",
   "metadata": {},
   "source": [
    "But the original file stays the same:"
   ]
  },
  {
   "cell_type": "code",
   "execution_count": 58,
   "metadata": {},
   "outputs": [
    {
     "name": "stdout",
     "output_type": "stream",
     "text": [
      "\n",
      "import itertools as it\n",
      "import pandas as pd\n",
      "from pprint import pprint\n",
      "\n",
      "pprint('Hello, World!')\n",
      "\n"
     ]
    }
   ],
   "source": [
    "print(path.read_text())"
   ]
  },
  {
   "cell_type": "markdown",
   "metadata": {},
   "source": [
    "### To have it apply the change \"in-place\", use the \"--in-place\" or \"-i\" flag"
   ]
  },
  {
   "cell_type": "code",
   "execution_count": 59,
   "metadata": {},
   "outputs": [
    {
     "name": "stdout",
     "output_type": "stream",
     "text": [
      "\n",
      "from pprint import pprint\n",
      "\n",
      "pprint('Hello, World!')\n",
      "\n"
     ]
    }
   ],
   "source": [
    "!python -m autoflake --remove-all-unused-imports -i ./src/main.py\n",
    "print(path.read_text())"
   ]
  },
  {
   "cell_type": "markdown",
   "metadata": {},
   "source": [
    "#### To do this recursively on all files, use the \"-r\" flag.\n",
    "(no demo shown)"
   ]
  },
  {
   "cell_type": "markdown",
   "metadata": {},
   "source": [
    "### Autoflake can also remove unused variables (from inside functions)!"
   ]
  },
  {
   "cell_type": "markdown",
   "metadata": {},
   "source": []
  },
  {
   "cell_type": "code",
   "execution_count": 60,
   "metadata": {},
   "outputs": [
    {
     "name": "stdout",
     "output_type": "stream",
     "text": [
      "\n",
      "# Won't be affected\n",
      "a = 3\n",
      "b = 4\n",
      "c = 5\n",
      "d = a + b\n",
      "\n",
      "# Will be affected\n",
      "def add(a, b):\n",
      "   d = 10\n",
      "   return a + 4\n",
      "\n",
      "\n",
      "\n"
     ]
    }
   ],
   "source": [
    "code = \"\"\"\n",
    "# Won't be affected\n",
    "a = 3\n",
    "b = 4\n",
    "c = 5\n",
    "d = a + b\n",
    "\n",
    "# Will be affected\n",
    "def add(a, b):\n",
    "   d = 10\n",
    "   return a + 4\n",
    "\n",
    "\n",
    "\"\"\"\n",
    "path = Path('./src/main.py')\n",
    "path.parent.mkdir(parents=True, exist_ok=True)\n",
    "path.write_text(code)\n",
    "print(path.read_text())"
   ]
  },
  {
   "cell_type": "code",
   "execution_count": 61,
   "metadata": {},
   "outputs": [
    {
     "name": "stdout",
     "output_type": "stream",
     "text": [
      "\n",
      "# Won't be affected\n",
      "a = 3\n",
      "b = 4\n",
      "c = 5\n",
      "d = a + b\n",
      "\n",
      "# Will be affected\n",
      "def add(a, b):\n",
      "   return a + 4\n",
      "\n",
      "\n",
      "\n"
     ]
    }
   ],
   "source": [
    "!python -m autoflake --remove-unused-variables -i src/main.py\n",
    "print(path.read_text())"
   ]
  },
  {
   "cell_type": "markdown",
   "metadata": {},
   "source": [
    "### Feeling lazy about imports? It can also expand star imports!"
   ]
  },
  {
   "cell_type": "code",
   "execution_count": 62,
   "metadata": {},
   "outputs": [
    {
     "name": "stdout",
     "output_type": "stream",
     "text": [
      "\n",
      "from math import *\n",
      "\n",
      "sqrt(32)\n",
      "sin(6)\n",
      "\n",
      "\n"
     ]
    }
   ],
   "source": [
    "code = \"\"\"\n",
    "from math import *\n",
    "\n",
    "sqrt(32)\n",
    "sin(6)\n",
    "\n",
    "\"\"\"\n",
    "path = Path('./src/main.py')\n",
    "path.parent.mkdir(parents=True, exist_ok=True)\n",
    "path.write_text(code)\n",
    "print(path.read_text())"
   ]
  },
  {
   "cell_type": "code",
   "execution_count": 63,
   "metadata": {},
   "outputs": [
    {
     "name": "stdout",
     "output_type": "stream",
     "text": [
      "\n",
      "from math import sin, sqrt\n",
      "\n",
      "sqrt(32)\n",
      "sin(6)\n",
      "\n",
      "\n"
     ]
    }
   ],
   "source": [
    "!python -m autoflake --expand-star-imports -i src/main.py\n",
    "print(path.read_text())"
   ]
  },
  {
   "cell_type": "markdown",
   "metadata": {},
   "source": [
    "Note that autoflake doesn't guess what to do if there are multiple start imports in the same file:"
   ]
  },
  {
   "cell_type": "code",
   "execution_count": 64,
   "metadata": {},
   "outputs": [
    {
     "name": "stdout",
     "output_type": "stream",
     "text": [
      "\n",
      "from math import *\n",
      "from pprint import *\n",
      "from itertools import *\n",
      "\n",
      "sqrt(32)\n",
      "sin(6)\n",
      "pprint('hi!')\n",
      "\n",
      "\n"
     ]
    }
   ],
   "source": [
    "code = \"\"\"\n",
    "from math import *\n",
    "from pprint import *\n",
    "from itertools import *\n",
    "\n",
    "sqrt(32)\n",
    "sin(6)\n",
    "pprint('hi!')\n",
    "\n",
    "\"\"\"\n",
    "path = Path('./src/main.py')\n",
    "path.parent.mkdir(parents=True, exist_ok=True)\n",
    "path.write_text(code)\n",
    "print(path.read_text())"
   ]
  },
  {
   "cell_type": "code",
   "execution_count": 65,
   "metadata": {},
   "outputs": [
    {
     "name": "stdout",
     "output_type": "stream",
     "text": [
      "\n",
      "from math import *\n",
      "from pprint import *\n",
      "from itertools import *\n",
      "\n",
      "sqrt(32)\n",
      "sin(6)\n",
      "pprint('hi!')\n",
      "\n",
      "\n"
     ]
    }
   ],
   "source": [
    "!python -m autoflake --expand-star-imports -i src/main.py\n",
    "print(path.read_text())"
   ]
  },
  {
   "cell_type": "markdown",
   "metadata": {},
   "source": [
    "Neat!  Here are the docs:"
   ]
  },
  {
   "cell_type": "code",
   "execution_count": 66,
   "metadata": {},
   "outputs": [
    {
     "name": "stdout",
     "output_type": "stream",
     "text": [
      "usage: autoflake [-h] [-c | -cd]\n",
      "                 [--imports IMPORTS | --remove-all-unused-imports] [-r] [-j n]\n",
      "                 [--exclude globs] [--expand-star-imports]\n",
      "                 [--ignore-init-module-imports] [--remove-duplicate-keys]\n",
      "                 [--remove-unused-variables]\n",
      "                 [--remove-rhs-for-unused-variables]\n",
      "                 [--ignore-pass-statements] [--ignore-pass-after-docstring]\n",
      "                 [--version] [--quiet] [-v]\n",
      "                 [--stdin-display-name STDIN_DISPLAY_NAME]\n",
      "                 [--config CONFIG_FILE] [-i | -s]\n",
      "                 files [files ...]\n",
      "\n",
      "Removes unused imports and unused variables as reported by pyflakes.\n",
      "\n",
      "positional arguments:\n",
      "  files                 files to format\n",
      "\n",
      "options:\n",
      "  -h, --help            show this help message and exit\n",
      "  -c, --check           return error code if changes are needed\n",
      "  -cd, --check-diff     return error code if changes are needed, also display\n",
      "                        file diffs\n",
      "  --imports IMPORTS     by default, only unused standard library imports are\n",
      "                        removed; specify a comma-separated list of additional\n",
      "                        modules/packages\n",
      "  --remove-all-unused-imports\n",
      "                        remove all unused imports (not just those from the\n",
      "                        standard library)\n",
      "  -r, --recursive       drill down directories recursively\n",
      "  -j n, --jobs n        number of parallel jobs; match CPU count if value is 0\n",
      "                        (default: 0)\n",
      "  --exclude globs       exclude file/directory names that match these comma-\n",
      "                        separated globs\n",
      "  --expand-star-imports\n",
      "                        expand wildcard star imports with undefined names;\n",
      "                        this only triggers if there is only one star import in\n",
      "                        the file; this is skipped if there are any uses of\n",
      "                        `__all__` or `del` in the file\n",
      "  --ignore-init-module-imports\n",
      "                        exclude __init__.py when removing unused imports\n",
      "  --remove-duplicate-keys\n",
      "                        remove all duplicate keys in objects\n",
      "  --remove-unused-variables\n",
      "                        remove unused variables\n",
      "  --remove-rhs-for-unused-variables\n",
      "                        remove RHS of statements when removing unused\n",
      "                        variables (unsafe)\n",
      "  --ignore-pass-statements\n",
      "                        ignore all pass statements\n",
      "  --ignore-pass-after-docstring\n",
      "                        ignore pass statements after a newline ending on '\"\"\"'\n",
      "  --version             show program's version number and exit\n",
      "  --quiet               Suppress output if there are no issues\n",
      "  -v, --verbose         print more verbose logs (you can repeat `-v` to make\n",
      "                        it more verbose)\n",
      "  --stdin-display-name STDIN_DISPLAY_NAME\n",
      "                        the name used when processing input from stdin\n",
      "  --config CONFIG_FILE  Explicitly set the config file instead of auto\n",
      "                        determining based on file location\n",
      "  -i, --in-place        make changes to files instead of printing diffs\n",
      "  -s, --stdout          print changed text to stdout. defaults to true when\n",
      "                        formatting stdin, or to false otherwise\n"
     ]
    }
   ],
   "source": [
    "!python -m autoflake -h"
   ]
  },
  {
   "cell_type": "markdown",
   "metadata": {},
   "source": []
  }
 ],
 "metadata": {
  "kernelspec": {
   "display_name": "datascience1",
   "language": "python",
   "name": "python3"
  },
  "language_info": {
   "codemirror_mode": {
    "name": "ipython",
    "version": 3
   },
   "file_extension": ".py",
   "mimetype": "text/x-python",
   "name": "python",
   "nbconvert_exporter": "python",
   "pygments_lexer": "ipython3",
   "version": "3.11.4"
  },
  "orig_nbformat": 4
 },
 "nbformat": 4,
 "nbformat_minor": 2
}
