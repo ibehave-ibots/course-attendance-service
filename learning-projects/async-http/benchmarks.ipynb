{
 "cells": [
  {
   "cell_type": "code",
   "execution_count": 51,
   "metadata": {},
   "outputs": [],
   "source": [
    "import requests\n",
    "import altair as alt\n",
    "import pandas as pd\n",
    "import httpx\n",
    "import time\n",
    "import asyncio"
   ]
  },
  {
   "cell_type": "markdown",
   "metadata": {},
   "source": [
    "## Making Multiple Simultaneous Web Request: Trying out Async coding with HttpX\n",
    "\n",
    "### Motivation\n",
    "For the course management project, we have to make several requests in a row to the Zoom API to do some tasks, and it would be great if we could speed that up!  Since this is an IO-bound bottleneck, concurrent requests should solve that.\n",
    "\n",
    "### Appproach\n",
    "Here, I'm trying out `httpx`, a much-hyped Python library that is supposedly easy to use (like `requests`), supports the faster HTTP/2 protocol (unlike `requests`), and also supports asynchronous requests (unlike `requests`), while otherwise being very much like `requests` in its interfaces.  I'll try out making different numbers of requests and see how the total time to do the batch changes.  A good solution takes roughly the same amount of time to make 8 requests as a single request.\n"
   ]
  },
  {
   "cell_type": "markdown",
   "metadata": {},
   "source": [
    "### Standard Synchronous Requests"
   ]
  },
  {
   "cell_type": "code",
   "execution_count": 111,
   "metadata": {},
   "outputs": [
    {
     "data": {
      "text/html": [
       "\n",
       "<style>\n",
       "  #altair-viz-f513aac941a14615a7c041a8d15d572f.vega-embed {\n",
       "    width: 100%;\n",
       "    display: flex;\n",
       "  }\n",
       "\n",
       "  #altair-viz-f513aac941a14615a7c041a8d15d572f.vega-embed details,\n",
       "  #altair-viz-f513aac941a14615a7c041a8d15d572f.vega-embed details summary {\n",
       "    position: relative;\n",
       "  }\n",
       "</style>\n",
       "<div id=\"altair-viz-f513aac941a14615a7c041a8d15d572f\"></div>\n",
       "<script type=\"text/javascript\">\n",
       "  var VEGA_DEBUG = (typeof VEGA_DEBUG == \"undefined\") ? {} : VEGA_DEBUG;\n",
       "  (function(spec, embedOpt){\n",
       "    let outputDiv = document.currentScript.previousElementSibling;\n",
       "    if (outputDiv.id !== \"altair-viz-f513aac941a14615a7c041a8d15d572f\") {\n",
       "      outputDiv = document.getElementById(\"altair-viz-f513aac941a14615a7c041a8d15d572f\");\n",
       "    }\n",
       "    const paths = {\n",
       "      \"vega\": \"https://cdn.jsdelivr.net/npm/vega@5?noext\",\n",
       "      \"vega-lib\": \"https://cdn.jsdelivr.net/npm/vega-lib?noext\",\n",
       "      \"vega-lite\": \"https://cdn.jsdelivr.net/npm/vega-lite@5.8.0?noext\",\n",
       "      \"vega-embed\": \"https://cdn.jsdelivr.net/npm/vega-embed@6?noext\",\n",
       "    };\n",
       "\n",
       "    function maybeLoadScript(lib, version) {\n",
       "      var key = `${lib.replace(\"-\", \"\")}_version`;\n",
       "      return (VEGA_DEBUG[key] == version) ?\n",
       "        Promise.resolve(paths[lib]) :\n",
       "        new Promise(function(resolve, reject) {\n",
       "          var s = document.createElement('script');\n",
       "          document.getElementsByTagName(\"head\")[0].appendChild(s);\n",
       "          s.async = true;\n",
       "          s.onload = () => {\n",
       "            VEGA_DEBUG[key] = version;\n",
       "            return resolve(paths[lib]);\n",
       "          };\n",
       "          s.onerror = () => reject(`Error loading script: ${paths[lib]}`);\n",
       "          s.src = paths[lib];\n",
       "        });\n",
       "    }\n",
       "\n",
       "    function showError(err) {\n",
       "      outputDiv.innerHTML = `<div class=\"error\" style=\"color:red;\">${err}</div>`;\n",
       "      throw err;\n",
       "    }\n",
       "\n",
       "    function displayChart(vegaEmbed) {\n",
       "      vegaEmbed(outputDiv, spec, embedOpt)\n",
       "        .catch(err => showError(`Javascript Error: ${err.message}<br>This usually means there's a typo in your chart specification. See the javascript console for the full traceback.`));\n",
       "    }\n",
       "\n",
       "    if(typeof define === \"function\" && define.amd) {\n",
       "      requirejs.config({paths});\n",
       "      require([\"vega-embed\"], displayChart, err => showError(`Error loading script: ${err.message}`));\n",
       "    } else {\n",
       "      maybeLoadScript(\"vega\", \"5\")\n",
       "        .then(() => maybeLoadScript(\"vega-lite\", \"5.8.0\"))\n",
       "        .then(() => maybeLoadScript(\"vega-embed\", \"6\"))\n",
       "        .catch(showError)\n",
       "        .then(() => displayChart(vegaEmbed));\n",
       "    }\n",
       "  })({\"config\": {\"view\": {\"continuousWidth\": 300, \"continuousHeight\": 300}}, \"data\": {\"name\": \"data-cc74c1f70b82acbce32f4388d4b270d2\"}, \"mark\": {\"type\": \"line\"}, \"encoding\": {\"color\": {\"field\": \"Rep\", \"type\": \"nominal\"}, \"x\": {\"field\": \"Num Requests\", \"type\": \"quantitative\"}, \"y\": {\"field\": \"Total Time\", \"type\": \"quantitative\"}}, \"$schema\": \"https://vega.github.io/schema/vega-lite/v5.8.0.json\", \"datasets\": {\"data-cc74c1f70b82acbce32f4388d4b270d2\": [{\"Num Requests\": 1, \"Rep\": 1, \"Total Time\": 0.4920397999230772}, {\"Num Requests\": 2, \"Rep\": 1, \"Total Time\": 0.818730799946934}, {\"Num Requests\": 3, \"Rep\": 1, \"Total Time\": 1.9466282000066712}, {\"Num Requests\": 5, \"Rep\": 1, \"Total Time\": 3.2773127999389544}, {\"Num Requests\": 8, \"Rep\": 1, \"Total Time\": 5.323417800012976}, {\"Num Requests\": 1, \"Rep\": 2, \"Total Time\": 0.7173428001115099}, {\"Num Requests\": 2, \"Rep\": 2, \"Total Time\": 1.1252197000430897}, {\"Num Requests\": 3, \"Rep\": 2, \"Total Time\": 1.9487338999751955}, {\"Num Requests\": 5, \"Rep\": 2, \"Total Time\": 3.069478999939747}, {\"Num Requests\": 8, \"Rep\": 2, \"Total Time\": 4.9145565999206156}, {\"Num Requests\": 1, \"Rep\": 3, \"Total Time\": 0.409591400064528}, {\"Num Requests\": 2, \"Rep\": 3, \"Total Time\": 0.8201739001087844}, {\"Num Requests\": 3, \"Rep\": 3, \"Total Time\": 1.2285957999993116}, {\"Num Requests\": 5, \"Rep\": 3, \"Total Time\": 1.9698320999741554}, {\"Num Requests\": 8, \"Rep\": 3, \"Total Time\": 3.251657799934037}]}}, {\"mode\": \"vega-lite\"});\n",
       "</script>"
      ],
      "text/plain": [
       "alt.Chart(...)"
      ]
     },
     "execution_count": 111,
     "metadata": {},
     "output_type": "execute_result"
    }
   ],
   "source": [
    "measurements = []\n",
    "\n",
    "for rep in range(1, 4):\n",
    "    for n in [1, 2, 3, 5, 8]:\n",
    "        start_time = time.perf_counter()\n",
    "        for el in range(n):\n",
    "            r = requests.get('http://www.example.com')\n",
    "            r.raise_for_status()\n",
    "        end_time = time.perf_counter()\n",
    "        duration = end_time - start_time\n",
    "        measurement = {'Num Requests': n, 'Rep': rep, 'Total Time': duration}\n",
    "        measurements.append(measurement)\n",
    "\n",
    "df_sync = pd.DataFrame(measurements)\n",
    "alt.Chart(data=df_sync).mark_line().encode(x='Num Requests', y='Total Time', color='Rep:N')"
   ]
  },
  {
   "cell_type": "markdown",
   "metadata": {},
   "source": [
    "As expected, more requests means more waiting time."
   ]
  },
  {
   "cell_type": "markdown",
   "metadata": {},
   "source": [
    "### HTTPX Written Badly: Synchronous Code Written in an Asynchronous Style\n",
    "\n",
    "If you `await` every single asynchronous operation immediately, there should be no concurrency benefit.  Tricky, but here it's demonstrated."
   ]
  },
  {
   "cell_type": "code",
   "execution_count": 108,
   "metadata": {},
   "outputs": [
    {
     "data": {
      "text/html": [
       "\n",
       "<style>\n",
       "  #altair-viz-e6d537d7af9d489a834c83471a31dc2b.vega-embed {\n",
       "    width: 100%;\n",
       "    display: flex;\n",
       "  }\n",
       "\n",
       "  #altair-viz-e6d537d7af9d489a834c83471a31dc2b.vega-embed details,\n",
       "  #altair-viz-e6d537d7af9d489a834c83471a31dc2b.vega-embed details summary {\n",
       "    position: relative;\n",
       "  }\n",
       "</style>\n",
       "<div id=\"altair-viz-e6d537d7af9d489a834c83471a31dc2b\"></div>\n",
       "<script type=\"text/javascript\">\n",
       "  var VEGA_DEBUG = (typeof VEGA_DEBUG == \"undefined\") ? {} : VEGA_DEBUG;\n",
       "  (function(spec, embedOpt){\n",
       "    let outputDiv = document.currentScript.previousElementSibling;\n",
       "    if (outputDiv.id !== \"altair-viz-e6d537d7af9d489a834c83471a31dc2b\") {\n",
       "      outputDiv = document.getElementById(\"altair-viz-e6d537d7af9d489a834c83471a31dc2b\");\n",
       "    }\n",
       "    const paths = {\n",
       "      \"vega\": \"https://cdn.jsdelivr.net/npm/vega@5?noext\",\n",
       "      \"vega-lib\": \"https://cdn.jsdelivr.net/npm/vega-lib?noext\",\n",
       "      \"vega-lite\": \"https://cdn.jsdelivr.net/npm/vega-lite@5.8.0?noext\",\n",
       "      \"vega-embed\": \"https://cdn.jsdelivr.net/npm/vega-embed@6?noext\",\n",
       "    };\n",
       "\n",
       "    function maybeLoadScript(lib, version) {\n",
       "      var key = `${lib.replace(\"-\", \"\")}_version`;\n",
       "      return (VEGA_DEBUG[key] == version) ?\n",
       "        Promise.resolve(paths[lib]) :\n",
       "        new Promise(function(resolve, reject) {\n",
       "          var s = document.createElement('script');\n",
       "          document.getElementsByTagName(\"head\")[0].appendChild(s);\n",
       "          s.async = true;\n",
       "          s.onload = () => {\n",
       "            VEGA_DEBUG[key] = version;\n",
       "            return resolve(paths[lib]);\n",
       "          };\n",
       "          s.onerror = () => reject(`Error loading script: ${paths[lib]}`);\n",
       "          s.src = paths[lib];\n",
       "        });\n",
       "    }\n",
       "\n",
       "    function showError(err) {\n",
       "      outputDiv.innerHTML = `<div class=\"error\" style=\"color:red;\">${err}</div>`;\n",
       "      throw err;\n",
       "    }\n",
       "\n",
       "    function displayChart(vegaEmbed) {\n",
       "      vegaEmbed(outputDiv, spec, embedOpt)\n",
       "        .catch(err => showError(`Javascript Error: ${err.message}<br>This usually means there's a typo in your chart specification. See the javascript console for the full traceback.`));\n",
       "    }\n",
       "\n",
       "    if(typeof define === \"function\" && define.amd) {\n",
       "      requirejs.config({paths});\n",
       "      require([\"vega-embed\"], displayChart, err => showError(`Error loading script: ${err.message}`));\n",
       "    } else {\n",
       "      maybeLoadScript(\"vega\", \"5\")\n",
       "        .then(() => maybeLoadScript(\"vega-lite\", \"5.8.0\"))\n",
       "        .then(() => maybeLoadScript(\"vega-embed\", \"6\"))\n",
       "        .catch(showError)\n",
       "        .then(() => displayChart(vegaEmbed));\n",
       "    }\n",
       "  })({\"config\": {\"view\": {\"continuousWidth\": 300, \"continuousHeight\": 300}}, \"data\": {\"name\": \"data-98f2946b5fb2e838c4d084cd489329fd\"}, \"mark\": {\"type\": \"line\"}, \"encoding\": {\"color\": {\"field\": \"Rep\", \"type\": \"nominal\"}, \"x\": {\"field\": \"Num Requests\", \"type\": \"quantitative\"}, \"y\": {\"field\": \"Total Time\", \"type\": \"quantitative\"}}, \"$schema\": \"https://vega.github.io/schema/vega-lite/v5.8.0.json\", \"datasets\": {\"data-98f2946b5fb2e838c4d084cd489329fd\": [{\"Num Requests\": 1, \"Rep\": 1, \"Total Time\": 0.6212380999932066}, {\"Num Requests\": 2, \"Rep\": 1, \"Total Time\": 0.6111435999628156}, {\"Num Requests\": 3, \"Rep\": 1, \"Total Time\": 0.9228732000337914}, {\"Num Requests\": 5, \"Rep\": 1, \"Total Time\": 1.6375738000497222}, {\"Num Requests\": 8, \"Rep\": 1, \"Total Time\": 3.0620265998877585}, {\"Num Requests\": 1, \"Rep\": 2, \"Total Time\": 0.21511820005252957}, {\"Num Requests\": 2, \"Rep\": 2, \"Total Time\": 0.5120002999901772}, {\"Num Requests\": 3, \"Rep\": 2, \"Total Time\": 1.5349768000887707}, {\"Num Requests\": 5, \"Rep\": 2, \"Total Time\": 1.3315948001109064}, {\"Num Requests\": 8, \"Rep\": 2, \"Total Time\": 2.7645601000403985}, {\"Num Requests\": 1, \"Rep\": 3, \"Total Time\": 0.3075067999307066}, {\"Num Requests\": 2, \"Rep\": 3, \"Total Time\": 0.40931120002642274}, {\"Num Requests\": 3, \"Rep\": 3, \"Total Time\": 0.7162829999579117}, {\"Num Requests\": 5, \"Rep\": 3, \"Total Time\": 1.3313438999466598}, {\"Num Requests\": 8, \"Rep\": 3, \"Total Time\": 1.6409203000366688}]}}, {\"mode\": \"vega-lite\"});\n",
       "</script>"
      ],
      "text/plain": [
       "alt.Chart(...)"
      ]
     },
     "execution_count": 108,
     "metadata": {},
     "output_type": "execute_result"
    }
   ],
   "source": [
    "measurements = []\n",
    "\n",
    "async with httpx.AsyncClient() as client:\n",
    "    for rep in range(1, 4):\n",
    "        for n in [1, 2, 3, 5, 8]:\n",
    "            start_time = time.perf_counter()\n",
    "            for el in range(n):\n",
    "                r = await client.get('http://www.example.com')\n",
    "                r.raise_for_status()\n",
    "            end_time = time.perf_counter()\n",
    "            duration = end_time - start_time\n",
    "            measurement = {'Num Requests': n, 'Rep': rep, 'Total Time': duration}\n",
    "            measurements.append(measurement)\n",
    "\n",
    "\n",
    "df_async = pd.DataFrame(measurements)\n",
    "alt.Chart(data=df_async).mark_line().encode(x='Num Requests', y='Total Time', color='Rep:N')\n"
   ]
  },
  {
   "cell_type": "markdown",
   "metadata": {},
   "source": [
    "As expected, this still gives the increasing amount of time."
   ]
  },
  {
   "cell_type": "markdown",
   "metadata": {},
   "source": [
    "### HTTPX with Async written properly\n",
    "Here, all the requests are made for the batch at once, then the whole group is awaited (here, using the `asyncio.gather()` function).  This should mean that all the requests have a chance to go out before the program waits for responses from them all."
   ]
  },
  {
   "cell_type": "code",
   "execution_count": 106,
   "metadata": {},
   "outputs": [
    {
     "data": {
      "text/html": [
       "\n",
       "<style>\n",
       "  #altair-viz-8e897423e6644e35aa70de59dacf6b41.vega-embed {\n",
       "    width: 100%;\n",
       "    display: flex;\n",
       "  }\n",
       "\n",
       "  #altair-viz-8e897423e6644e35aa70de59dacf6b41.vega-embed details,\n",
       "  #altair-viz-8e897423e6644e35aa70de59dacf6b41.vega-embed details summary {\n",
       "    position: relative;\n",
       "  }\n",
       "</style>\n",
       "<div id=\"altair-viz-8e897423e6644e35aa70de59dacf6b41\"></div>\n",
       "<script type=\"text/javascript\">\n",
       "  var VEGA_DEBUG = (typeof VEGA_DEBUG == \"undefined\") ? {} : VEGA_DEBUG;\n",
       "  (function(spec, embedOpt){\n",
       "    let outputDiv = document.currentScript.previousElementSibling;\n",
       "    if (outputDiv.id !== \"altair-viz-8e897423e6644e35aa70de59dacf6b41\") {\n",
       "      outputDiv = document.getElementById(\"altair-viz-8e897423e6644e35aa70de59dacf6b41\");\n",
       "    }\n",
       "    const paths = {\n",
       "      \"vega\": \"https://cdn.jsdelivr.net/npm/vega@5?noext\",\n",
       "      \"vega-lib\": \"https://cdn.jsdelivr.net/npm/vega-lib?noext\",\n",
       "      \"vega-lite\": \"https://cdn.jsdelivr.net/npm/vega-lite@5.8.0?noext\",\n",
       "      \"vega-embed\": \"https://cdn.jsdelivr.net/npm/vega-embed@6?noext\",\n",
       "    };\n",
       "\n",
       "    function maybeLoadScript(lib, version) {\n",
       "      var key = `${lib.replace(\"-\", \"\")}_version`;\n",
       "      return (VEGA_DEBUG[key] == version) ?\n",
       "        Promise.resolve(paths[lib]) :\n",
       "        new Promise(function(resolve, reject) {\n",
       "          var s = document.createElement('script');\n",
       "          document.getElementsByTagName(\"head\")[0].appendChild(s);\n",
       "          s.async = true;\n",
       "          s.onload = () => {\n",
       "            VEGA_DEBUG[key] = version;\n",
       "            return resolve(paths[lib]);\n",
       "          };\n",
       "          s.onerror = () => reject(`Error loading script: ${paths[lib]}`);\n",
       "          s.src = paths[lib];\n",
       "        });\n",
       "    }\n",
       "\n",
       "    function showError(err) {\n",
       "      outputDiv.innerHTML = `<div class=\"error\" style=\"color:red;\">${err}</div>`;\n",
       "      throw err;\n",
       "    }\n",
       "\n",
       "    function displayChart(vegaEmbed) {\n",
       "      vegaEmbed(outputDiv, spec, embedOpt)\n",
       "        .catch(err => showError(`Javascript Error: ${err.message}<br>This usually means there's a typo in your chart specification. See the javascript console for the full traceback.`));\n",
       "    }\n",
       "\n",
       "    if(typeof define === \"function\" && define.amd) {\n",
       "      requirejs.config({paths});\n",
       "      require([\"vega-embed\"], displayChart, err => showError(`Error loading script: ${err.message}`));\n",
       "    } else {\n",
       "      maybeLoadScript(\"vega\", \"5\")\n",
       "        .then(() => maybeLoadScript(\"vega-lite\", \"5.8.0\"))\n",
       "        .then(() => maybeLoadScript(\"vega-embed\", \"6\"))\n",
       "        .catch(showError)\n",
       "        .then(() => displayChart(vegaEmbed));\n",
       "    }\n",
       "  })({\"config\": {\"view\": {\"continuousWidth\": 300, \"continuousHeight\": 300}}, \"data\": {\"name\": \"data-f4cbda92fe50a55341ee6bb964fe0883\"}, \"mark\": {\"type\": \"line\"}, \"encoding\": {\"color\": {\"field\": \"Rep\", \"type\": \"nominal\"}, \"x\": {\"field\": \"Num Requests\", \"type\": \"quantitative\"}, \"y\": {\"field\": \"Total Time\", \"type\": \"quantitative\"}}, \"$schema\": \"https://vega.github.io/schema/vega-lite/v5.8.0.json\", \"datasets\": {\"data-f4cbda92fe50a55341ee6bb964fe0883\": [{\"Num Requests\": 1, \"Rep\": 1, \"Total Time\": 0.5318274999735877}, {\"Num Requests\": 2, \"Rep\": 1, \"Total Time\": 0.7170487999683246}, {\"Num Requests\": 3, \"Rep\": 1, \"Total Time\": 0.372094799997285}, {\"Num Requests\": 5, \"Rep\": 1, \"Total Time\": 0.44752179994247854}, {\"Num Requests\": 8, \"Rep\": 1, \"Total Time\": 0.41142870008479804}, {\"Num Requests\": 1, \"Rep\": 2, \"Total Time\": 0.16683180001564324}, {\"Num Requests\": 2, \"Rep\": 2, \"Total Time\": 0.1797672000247985}, {\"Num Requests\": 3, \"Rep\": 2, \"Total Time\": 0.26766419992782176}, {\"Num Requests\": 5, \"Rep\": 2, \"Total Time\": 0.30666670005302876}, {\"Num Requests\": 8, \"Rep\": 2, \"Total Time\": 0.2105468000518158}, {\"Num Requests\": 1, \"Rep\": 3, \"Total Time\": 0.29979049996472895}, {\"Num Requests\": 2, \"Rep\": 3, \"Total Time\": 0.20567799999844283}, {\"Num Requests\": 3, \"Rep\": 3, \"Total Time\": 0.30966139992233366}, {\"Num Requests\": 5, \"Rep\": 3, \"Total Time\": 0.2730273000197485}, {\"Num Requests\": 8, \"Rep\": 3, \"Total Time\": 0.24761650001164526}]}}, {\"mode\": \"vega-lite\"});\n",
       "</script>"
      ],
      "text/plain": [
       "alt.Chart(...)"
      ]
     },
     "execution_count": 106,
     "metadata": {},
     "output_type": "execute_result"
    }
   ],
   "source": [
    "measurements = []\n",
    "\n",
    "async with httpx.AsyncClient() as client:\n",
    "    for rep in range(1, 4):\n",
    "        for n in [1, 2, 3, 5, 8]:\n",
    "            start_time = time.perf_counter()\n",
    "            tasks = []\n",
    "            for el in range(n):\n",
    "                task = client.get('http://www.example.com')\n",
    "                tasks.append(task)\n",
    "            result = await asyncio.gather(*tasks)\n",
    "            end_time = time.perf_counter()\n",
    "            duration = end_time - start_time\n",
    "            measurement = {'Num Requests': n, 'Rep': rep, 'Total Time': duration}\n",
    "            measurements.append(measurement)\n",
    "\n",
    "\n",
    "df_gather = pd.DataFrame(measurements)\n",
    "alt.Chart(data=df_gather).mark_line().encode(x='Num Requests', y='Total Time', color='Rep:N')"
   ]
  },
  {
   "cell_type": "markdown",
   "metadata": {},
   "source": [
    "Success!  The waiting time stays about the same, even as the number of requests increases!"
   ]
  },
  {
   "cell_type": "markdown",
   "metadata": {},
   "source": [
    "## Conclusions\n",
    "\n",
    "  - This approach should significantly speed up the zoom requests.\n",
    "  - The `httpx` library was really easy to use.  "
   ]
  }
 ],
 "metadata": {
  "kernelspec": {
   "display_name": "httpx",
   "language": "python",
   "name": "python3"
  },
  "language_info": {
   "codemirror_mode": {
    "name": "ipython",
    "version": 3
   },
   "file_extension": ".py",
   "mimetype": "text/x-python",
   "name": "python",
   "nbconvert_exporter": "python",
   "pygments_lexer": "ipython3",
   "version": "3.11.4"
  },
  "orig_nbformat": 4
 },
 "nbformat": 4,
 "nbformat_minor": 2
}
