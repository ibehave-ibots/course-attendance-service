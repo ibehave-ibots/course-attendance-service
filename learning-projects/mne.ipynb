{
 "cells": [
  {
   "cell_type": "markdown",
   "metadata": {},
   "source": [
    "# MNE - Learning project\n",
    "\n",
    "## Goals\n",
    "1. Reading different data formats\n",
    "2. Processing \n",
    "3. Analysis"
   ]
  },
  {
   "cell_type": "markdown",
   "metadata": {},
   "source": []
  }
 ],
 "metadata": {
  "language_info": {
   "name": "python"
  },
  "orig_nbformat": 4
 },
 "nbformat": 4,
 "nbformat_minor": 2
}
